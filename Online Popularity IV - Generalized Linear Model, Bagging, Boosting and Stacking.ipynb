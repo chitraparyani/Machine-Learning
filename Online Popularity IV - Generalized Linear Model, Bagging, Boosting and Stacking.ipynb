{
 "cells": [
  {
   "cell_type": "markdown",
   "metadata": {},
   "source": [
    "### Part IV - Generalized Linear Model, Bagging, Boosting and Stacking"
   ]
  },
  {
   "cell_type": "code",
   "execution_count": 323,
   "metadata": {},
   "outputs": [],
   "source": [
    "import numpy as np\n",
    "import pandas as pd\n",
    "import seaborn as sns\n",
    "from scipy import stats"
   ]
  },
  {
   "cell_type": "code",
   "execution_count": 324,
   "metadata": {},
   "outputs": [],
   "source": [
    "import matplotlib.pyplot as plt\n",
    "%matplotlib inline "
   ]
  },
  {
   "cell_type": "code",
   "execution_count": 325,
   "metadata": {},
   "outputs": [
    {
     "name": "stdout",
     "output_type": "stream",
     "text": [
      "Checking whether there is an H2O instance running at http://localhost:54321. connected.\n"
     ]
    },
    {
     "data": {
      "text/html": [
       "<div style=\"overflow:auto\"><table style=\"width:50%\"><tr><td>H2O cluster uptime:</td>\n",
       "<td>1 day 8 hours 5 mins</td></tr>\n",
       "<tr><td>H2O cluster timezone:</td>\n",
       "<td>America/New_York</td></tr>\n",
       "<tr><td>H2O data parsing timezone:</td>\n",
       "<td>UTC</td></tr>\n",
       "<tr><td>H2O cluster version:</td>\n",
       "<td>3.20.0.3</td></tr>\n",
       "<tr><td>H2O cluster version age:</td>\n",
       "<td>25 days </td></tr>\n",
       "<tr><td>H2O cluster name:</td>\n",
       "<td>H2O_from_python_chitr_8vg90n</td></tr>\n",
       "<tr><td>H2O cluster total nodes:</td>\n",
       "<td>1</td></tr>\n",
       "<tr><td>H2O cluster free memory:</td>\n",
       "<td>2.308 Gb</td></tr>\n",
       "<tr><td>H2O cluster total cores:</td>\n",
       "<td>4</td></tr>\n",
       "<tr><td>H2O cluster allowed cores:</td>\n",
       "<td>4</td></tr>\n",
       "<tr><td>H2O cluster status:</td>\n",
       "<td>locked, healthy</td></tr>\n",
       "<tr><td>H2O connection url:</td>\n",
       "<td>http://localhost:54321</td></tr>\n",
       "<tr><td>H2O connection proxy:</td>\n",
       "<td>None</td></tr>\n",
       "<tr><td>H2O internal security:</td>\n",
       "<td>False</td></tr>\n",
       "<tr><td>H2O API Extensions:</td>\n",
       "<td>Algos, AutoML, Core V3, Core V4</td></tr>\n",
       "<tr><td>Python version:</td>\n",
       "<td>3.6.6 final</td></tr></table></div>"
      ],
      "text/plain": [
       "--------------------------  -------------------------------\n",
       "H2O cluster uptime:         1 day 8 hours 5 mins\n",
       "H2O cluster timezone:       America/New_York\n",
       "H2O data parsing timezone:  UTC\n",
       "H2O cluster version:        3.20.0.3\n",
       "H2O cluster version age:    25 days\n",
       "H2O cluster name:           H2O_from_python_chitr_8vg90n\n",
       "H2O cluster total nodes:    1\n",
       "H2O cluster free memory:    2.308 Gb\n",
       "H2O cluster total cores:    4\n",
       "H2O cluster allowed cores:  4\n",
       "H2O cluster status:         locked, healthy\n",
       "H2O connection url:         http://localhost:54321\n",
       "H2O connection proxy:\n",
       "H2O internal security:      False\n",
       "H2O API Extensions:         Algos, AutoML, Core V3, Core V4\n",
       "Python version:             3.6.6 final\n",
       "--------------------------  -------------------------------"
      ]
     },
     "metadata": {},
     "output_type": "display_data"
    }
   ],
   "source": [
    "import h2o\n",
    "from h2o.estimators.random_forest import H2ORandomForestEstimator\n",
    "from h2o.estimators.gbm import H2OGradientBoostingEstimator\n",
    "from h2o.estimators.stackedensemble import H2OStackedEnsembleEstimator\n",
    "from h2o.grid.grid_search import H2OGridSearch\n",
    "from __future__ import print_function\n",
    "h2o.init()"
   ]
  },
  {
   "cell_type": "code",
   "execution_count": 326,
   "metadata": {},
   "outputs": [],
   "source": [
    "# Import data"
   ]
  },
  {
   "cell_type": "code",
   "execution_count": 327,
   "metadata": {},
   "outputs": [
    {
     "name": "stdout",
     "output_type": "stream",
     "text": [
      "Parse progress: |█████████████████████████████████████████████████████████| 100%\n"
     ]
    }
   ],
   "source": [
    "data = h2o.import_file('OnlineNewsPopularity/OnlineNewsPopularity.csv')"
   ]
  },
  {
   "cell_type": "code",
   "execution_count": 328,
   "metadata": {},
   "outputs": [
    {
     "data": {
      "text/html": [
       "<table>\n",
       "<thead>\n",
       "<tr><th>url                                                           </th><th style=\"text-align: right;\">  timedelta</th><th style=\"text-align: right;\">  n_tokens_title</th><th style=\"text-align: right;\">  n_tokens_content</th><th style=\"text-align: right;\">  n_unique_tokens</th><th style=\"text-align: right;\">  n_non_stop_words</th><th style=\"text-align: right;\">  n_non_stop_unique_tokens</th><th style=\"text-align: right;\">  num_hrefs</th><th style=\"text-align: right;\">  num_self_hrefs</th><th style=\"text-align: right;\">  num_imgs</th><th style=\"text-align: right;\">  num_videos</th><th style=\"text-align: right;\">  average_token_length</th><th style=\"text-align: right;\">  num_keywords</th><th style=\"text-align: right;\">  data_channel_is_lifestyle</th><th style=\"text-align: right;\">  data_channel_is_entertainment</th><th style=\"text-align: right;\">  data_channel_is_bus</th><th style=\"text-align: right;\">  data_channel_is_socmed</th><th style=\"text-align: right;\">  data_channel_is_tech</th><th style=\"text-align: right;\">  data_channel_is_world</th><th style=\"text-align: right;\">  kw_min_min</th><th style=\"text-align: right;\">  kw_max_min</th><th style=\"text-align: right;\">  kw_avg_min</th><th style=\"text-align: right;\">  kw_min_max</th><th style=\"text-align: right;\">  kw_max_max</th><th style=\"text-align: right;\">  kw_avg_max</th><th style=\"text-align: right;\">  kw_min_avg</th><th style=\"text-align: right;\">  kw_max_avg</th><th style=\"text-align: right;\">  kw_avg_avg</th><th style=\"text-align: right;\">  self_reference_min_shares</th><th style=\"text-align: right;\">  self_reference_max_shares</th><th style=\"text-align: right;\">  self_reference_avg_sharess</th><th style=\"text-align: right;\">  weekday_is_monday</th><th style=\"text-align: right;\">  weekday_is_tuesday</th><th style=\"text-align: right;\">  weekday_is_wednesday</th><th style=\"text-align: right;\">  weekday_is_thursday</th><th style=\"text-align: right;\">  weekday_is_friday</th><th style=\"text-align: right;\">  weekday_is_saturday</th><th style=\"text-align: right;\">  weekday_is_sunday</th><th style=\"text-align: right;\">  is_weekend</th><th style=\"text-align: right;\">   LDA_00</th><th style=\"text-align: right;\">   LDA_01</th><th style=\"text-align: right;\">   LDA_02</th><th style=\"text-align: right;\">   LDA_03</th><th style=\"text-align: right;\">   LDA_04</th><th style=\"text-align: right;\">  global_subjectivity</th><th style=\"text-align: right;\">  global_sentiment_polarity</th><th style=\"text-align: right;\">  global_rate_positive_words</th><th style=\"text-align: right;\">  global_rate_negative_words</th><th style=\"text-align: right;\">  rate_positive_words</th><th style=\"text-align: right;\">  rate_negative_words</th><th style=\"text-align: right;\">  avg_positive_polarity</th><th style=\"text-align: right;\">  min_positive_polarity</th><th style=\"text-align: right;\">  max_positive_polarity</th><th style=\"text-align: right;\">  avg_negative_polarity</th><th style=\"text-align: right;\">  min_negative_polarity</th><th style=\"text-align: right;\">  max_negative_polarity</th><th style=\"text-align: right;\">  title_subjectivity</th><th style=\"text-align: right;\">  title_sentiment_polarity</th><th style=\"text-align: right;\">  abs_title_subjectivity</th><th style=\"text-align: right;\">  abs_title_sentiment_polarity</th><th style=\"text-align: right;\">  shares</th></tr>\n",
       "</thead>\n",
       "<tbody>\n",
       "<tr><td>http://mashable.com/2013/01/07/amazon-instant-video-browser/  </td><td style=\"text-align: right;\">        731</td><td style=\"text-align: right;\">              12</td><td style=\"text-align: right;\">               219</td><td style=\"text-align: right;\">         0.663594</td><td style=\"text-align: right;\">                 1</td><td style=\"text-align: right;\">                  0.815385</td><td style=\"text-align: right;\">          4</td><td style=\"text-align: right;\">               2</td><td style=\"text-align: right;\">         1</td><td style=\"text-align: right;\">           0</td><td style=\"text-align: right;\">               4.68037</td><td style=\"text-align: right;\">             5</td><td style=\"text-align: right;\">                          0</td><td style=\"text-align: right;\">                              1</td><td style=\"text-align: right;\">                    0</td><td style=\"text-align: right;\">                       0</td><td style=\"text-align: right;\">                     0</td><td style=\"text-align: right;\">                      0</td><td style=\"text-align: right;\">           0</td><td style=\"text-align: right;\">           0</td><td style=\"text-align: right;\">           0</td><td style=\"text-align: right;\">           0</td><td style=\"text-align: right;\">           0</td><td style=\"text-align: right;\">           0</td><td style=\"text-align: right;\">           0</td><td style=\"text-align: right;\">           0</td><td style=\"text-align: right;\">           0</td><td style=\"text-align: right;\">                        496</td><td style=\"text-align: right;\">                        496</td><td style=\"text-align: right;\">                      496   </td><td style=\"text-align: right;\">                  1</td><td style=\"text-align: right;\">                   0</td><td style=\"text-align: right;\">                     0</td><td style=\"text-align: right;\">                    0</td><td style=\"text-align: right;\">                  0</td><td style=\"text-align: right;\">                    0</td><td style=\"text-align: right;\">                  0</td><td style=\"text-align: right;\">           0</td><td style=\"text-align: right;\">0.500331 </td><td style=\"text-align: right;\">0.378279 </td><td style=\"text-align: right;\">0.0400047</td><td style=\"text-align: right;\">0.0412626</td><td style=\"text-align: right;\">0.0401225</td><td style=\"text-align: right;\">             0.521617</td><td style=\"text-align: right;\">                  0.092562 </td><td style=\"text-align: right;\">                   0.0456621</td><td style=\"text-align: right;\">                  0.0136986 </td><td style=\"text-align: right;\">             0.769231</td><td style=\"text-align: right;\">             0.230769</td><td style=\"text-align: right;\">               0.378636</td><td style=\"text-align: right;\">              0.1      </td><td style=\"text-align: right;\">                    0.7</td><td style=\"text-align: right;\">              -0.35    </td><td style=\"text-align: right;\">                 -0.6  </td><td style=\"text-align: right;\">              -0.2     </td><td style=\"text-align: right;\">            0.5     </td><td style=\"text-align: right;\">                 -0.1875  </td><td style=\"text-align: right;\">               0        </td><td style=\"text-align: right;\">                      0.1875  </td><td style=\"text-align: right;\">     593</td></tr>\n",
       "<tr><td>http://mashable.com/2013/01/07/ap-samsung-sponsored-tweets/   </td><td style=\"text-align: right;\">        731</td><td style=\"text-align: right;\">               9</td><td style=\"text-align: right;\">               255</td><td style=\"text-align: right;\">         0.604743</td><td style=\"text-align: right;\">                 1</td><td style=\"text-align: right;\">                  0.791946</td><td style=\"text-align: right;\">          3</td><td style=\"text-align: right;\">               1</td><td style=\"text-align: right;\">         1</td><td style=\"text-align: right;\">           0</td><td style=\"text-align: right;\">               4.91373</td><td style=\"text-align: right;\">             4</td><td style=\"text-align: right;\">                          0</td><td style=\"text-align: right;\">                              0</td><td style=\"text-align: right;\">                    1</td><td style=\"text-align: right;\">                       0</td><td style=\"text-align: right;\">                     0</td><td style=\"text-align: right;\">                      0</td><td style=\"text-align: right;\">           0</td><td style=\"text-align: right;\">           0</td><td style=\"text-align: right;\">           0</td><td style=\"text-align: right;\">           0</td><td style=\"text-align: right;\">           0</td><td style=\"text-align: right;\">           0</td><td style=\"text-align: right;\">           0</td><td style=\"text-align: right;\">           0</td><td style=\"text-align: right;\">           0</td><td style=\"text-align: right;\">                          0</td><td style=\"text-align: right;\">                          0</td><td style=\"text-align: right;\">                        0   </td><td style=\"text-align: right;\">                  1</td><td style=\"text-align: right;\">                   0</td><td style=\"text-align: right;\">                     0</td><td style=\"text-align: right;\">                    0</td><td style=\"text-align: right;\">                  0</td><td style=\"text-align: right;\">                    0</td><td style=\"text-align: right;\">                  0</td><td style=\"text-align: right;\">           0</td><td style=\"text-align: right;\">0.799756 </td><td style=\"text-align: right;\">0.0500467</td><td style=\"text-align: right;\">0.0500963</td><td style=\"text-align: right;\">0.0501007</td><td style=\"text-align: right;\">0.0500007</td><td style=\"text-align: right;\">             0.341246</td><td style=\"text-align: right;\">                  0.148948 </td><td style=\"text-align: right;\">                   0.0431373</td><td style=\"text-align: right;\">                  0.0156863 </td><td style=\"text-align: right;\">             0.733333</td><td style=\"text-align: right;\">             0.266667</td><td style=\"text-align: right;\">               0.286915</td><td style=\"text-align: right;\">              0.0333333</td><td style=\"text-align: right;\">                    0.7</td><td style=\"text-align: right;\">              -0.11875 </td><td style=\"text-align: right;\">                 -0.125</td><td style=\"text-align: right;\">              -0.1     </td><td style=\"text-align: right;\">            0       </td><td style=\"text-align: right;\">                  0       </td><td style=\"text-align: right;\">               0.5      </td><td style=\"text-align: right;\">                      0       </td><td style=\"text-align: right;\">     711</td></tr>\n",
       "<tr><td>http://mashable.com/2013/01/07/apple-40-billion-app-downloads/</td><td style=\"text-align: right;\">        731</td><td style=\"text-align: right;\">               9</td><td style=\"text-align: right;\">               211</td><td style=\"text-align: right;\">         0.57513 </td><td style=\"text-align: right;\">                 1</td><td style=\"text-align: right;\">                  0.663866</td><td style=\"text-align: right;\">          3</td><td style=\"text-align: right;\">               1</td><td style=\"text-align: right;\">         1</td><td style=\"text-align: right;\">           0</td><td style=\"text-align: right;\">               4.39336</td><td style=\"text-align: right;\">             6</td><td style=\"text-align: right;\">                          0</td><td style=\"text-align: right;\">                              0</td><td style=\"text-align: right;\">                    1</td><td style=\"text-align: right;\">                       0</td><td style=\"text-align: right;\">                     0</td><td style=\"text-align: right;\">                      0</td><td style=\"text-align: right;\">           0</td><td style=\"text-align: right;\">           0</td><td style=\"text-align: right;\">           0</td><td style=\"text-align: right;\">           0</td><td style=\"text-align: right;\">           0</td><td style=\"text-align: right;\">           0</td><td style=\"text-align: right;\">           0</td><td style=\"text-align: right;\">           0</td><td style=\"text-align: right;\">           0</td><td style=\"text-align: right;\">                        918</td><td style=\"text-align: right;\">                        918</td><td style=\"text-align: right;\">                      918   </td><td style=\"text-align: right;\">                  1</td><td style=\"text-align: right;\">                   0</td><td style=\"text-align: right;\">                     0</td><td style=\"text-align: right;\">                    0</td><td style=\"text-align: right;\">                  0</td><td style=\"text-align: right;\">                    0</td><td style=\"text-align: right;\">                  0</td><td style=\"text-align: right;\">           0</td><td style=\"text-align: right;\">0.217792 </td><td style=\"text-align: right;\">0.0333345</td><td style=\"text-align: right;\">0.0333514</td><td style=\"text-align: right;\">0.0333335</td><td style=\"text-align: right;\">0.682188 </td><td style=\"text-align: right;\">             0.702222</td><td style=\"text-align: right;\">                  0.323333 </td><td style=\"text-align: right;\">                   0.056872 </td><td style=\"text-align: right;\">                  0.00947867</td><td style=\"text-align: right;\">             0.857143</td><td style=\"text-align: right;\">             0.142857</td><td style=\"text-align: right;\">               0.495833</td><td style=\"text-align: right;\">              0.1      </td><td style=\"text-align: right;\">                    1  </td><td style=\"text-align: right;\">              -0.466667</td><td style=\"text-align: right;\">                 -0.8  </td><td style=\"text-align: right;\">              -0.133333</td><td style=\"text-align: right;\">            0       </td><td style=\"text-align: right;\">                  0       </td><td style=\"text-align: right;\">               0.5      </td><td style=\"text-align: right;\">                      0       </td><td style=\"text-align: right;\">    1500</td></tr>\n",
       "<tr><td>http://mashable.com/2013/01/07/astronaut-notre-dame-bcs/      </td><td style=\"text-align: right;\">        731</td><td style=\"text-align: right;\">               9</td><td style=\"text-align: right;\">               531</td><td style=\"text-align: right;\">         0.503788</td><td style=\"text-align: right;\">                 1</td><td style=\"text-align: right;\">                  0.665635</td><td style=\"text-align: right;\">          9</td><td style=\"text-align: right;\">               0</td><td style=\"text-align: right;\">         1</td><td style=\"text-align: right;\">           0</td><td style=\"text-align: right;\">               4.4049 </td><td style=\"text-align: right;\">             7</td><td style=\"text-align: right;\">                          0</td><td style=\"text-align: right;\">                              1</td><td style=\"text-align: right;\">                    0</td><td style=\"text-align: right;\">                       0</td><td style=\"text-align: right;\">                     0</td><td style=\"text-align: right;\">                      0</td><td style=\"text-align: right;\">           0</td><td style=\"text-align: right;\">           0</td><td style=\"text-align: right;\">           0</td><td style=\"text-align: right;\">           0</td><td style=\"text-align: right;\">           0</td><td style=\"text-align: right;\">           0</td><td style=\"text-align: right;\">           0</td><td style=\"text-align: right;\">           0</td><td style=\"text-align: right;\">           0</td><td style=\"text-align: right;\">                          0</td><td style=\"text-align: right;\">                          0</td><td style=\"text-align: right;\">                        0   </td><td style=\"text-align: right;\">                  1</td><td style=\"text-align: right;\">                   0</td><td style=\"text-align: right;\">                     0</td><td style=\"text-align: right;\">                    0</td><td style=\"text-align: right;\">                  0</td><td style=\"text-align: right;\">                    0</td><td style=\"text-align: right;\">                  0</td><td style=\"text-align: right;\">           0</td><td style=\"text-align: right;\">0.0285732</td><td style=\"text-align: right;\">0.4193   </td><td style=\"text-align: right;\">0.494651 </td><td style=\"text-align: right;\">0.0289047</td><td style=\"text-align: right;\">0.0285716</td><td style=\"text-align: right;\">             0.42985 </td><td style=\"text-align: right;\">                  0.100705 </td><td style=\"text-align: right;\">                   0.0414313</td><td style=\"text-align: right;\">                  0.0207156 </td><td style=\"text-align: right;\">             0.666667</td><td style=\"text-align: right;\">             0.333333</td><td style=\"text-align: right;\">               0.385965</td><td style=\"text-align: right;\">              0.136364 </td><td style=\"text-align: right;\">                    0.8</td><td style=\"text-align: right;\">              -0.369697</td><td style=\"text-align: right;\">                 -0.6  </td><td style=\"text-align: right;\">              -0.166667</td><td style=\"text-align: right;\">            0       </td><td style=\"text-align: right;\">                  0       </td><td style=\"text-align: right;\">               0.5      </td><td style=\"text-align: right;\">                      0       </td><td style=\"text-align: right;\">    1200</td></tr>\n",
       "<tr><td>http://mashable.com/2013/01/07/att-u-verse-apps/              </td><td style=\"text-align: right;\">        731</td><td style=\"text-align: right;\">              13</td><td style=\"text-align: right;\">              1072</td><td style=\"text-align: right;\">         0.415646</td><td style=\"text-align: right;\">                 1</td><td style=\"text-align: right;\">                  0.54089 </td><td style=\"text-align: right;\">         19</td><td style=\"text-align: right;\">              19</td><td style=\"text-align: right;\">        20</td><td style=\"text-align: right;\">           0</td><td style=\"text-align: right;\">               4.68284</td><td style=\"text-align: right;\">             7</td><td style=\"text-align: right;\">                          0</td><td style=\"text-align: right;\">                              0</td><td style=\"text-align: right;\">                    0</td><td style=\"text-align: right;\">                       0</td><td style=\"text-align: right;\">                     1</td><td style=\"text-align: right;\">                      0</td><td style=\"text-align: right;\">           0</td><td style=\"text-align: right;\">           0</td><td style=\"text-align: right;\">           0</td><td style=\"text-align: right;\">           0</td><td style=\"text-align: right;\">           0</td><td style=\"text-align: right;\">           0</td><td style=\"text-align: right;\">           0</td><td style=\"text-align: right;\">           0</td><td style=\"text-align: right;\">           0</td><td style=\"text-align: right;\">                        545</td><td style=\"text-align: right;\">                      16000</td><td style=\"text-align: right;\">                     3151.16</td><td style=\"text-align: right;\">                  1</td><td style=\"text-align: right;\">                   0</td><td style=\"text-align: right;\">                     0</td><td style=\"text-align: right;\">                    0</td><td style=\"text-align: right;\">                  0</td><td style=\"text-align: right;\">                    0</td><td style=\"text-align: right;\">                  0</td><td style=\"text-align: right;\">           0</td><td style=\"text-align: right;\">0.0286328</td><td style=\"text-align: right;\">0.0287936</td><td style=\"text-align: right;\">0.0285752</td><td style=\"text-align: right;\">0.0285717</td><td style=\"text-align: right;\">0.885427 </td><td style=\"text-align: right;\">             0.513502</td><td style=\"text-align: right;\">                  0.281003 </td><td style=\"text-align: right;\">                   0.0746269</td><td style=\"text-align: right;\">                  0.0121269 </td><td style=\"text-align: right;\">             0.860215</td><td style=\"text-align: right;\">             0.139785</td><td style=\"text-align: right;\">               0.411127</td><td style=\"text-align: right;\">              0.0333333</td><td style=\"text-align: right;\">                    1  </td><td style=\"text-align: right;\">              -0.220192</td><td style=\"text-align: right;\">                 -0.5  </td><td style=\"text-align: right;\">              -0.05    </td><td style=\"text-align: right;\">            0.454545</td><td style=\"text-align: right;\">                  0.136364</td><td style=\"text-align: right;\">               0.0454545</td><td style=\"text-align: right;\">                      0.136364</td><td style=\"text-align: right;\">     505</td></tr>\n",
       "<tr><td>http://mashable.com/2013/01/07/beewi-smart-toys/              </td><td style=\"text-align: right;\">        731</td><td style=\"text-align: right;\">              10</td><td style=\"text-align: right;\">               370</td><td style=\"text-align: right;\">         0.559889</td><td style=\"text-align: right;\">                 1</td><td style=\"text-align: right;\">                  0.698198</td><td style=\"text-align: right;\">          2</td><td style=\"text-align: right;\">               2</td><td style=\"text-align: right;\">         0</td><td style=\"text-align: right;\">           0</td><td style=\"text-align: right;\">               4.35946</td><td style=\"text-align: right;\">             9</td><td style=\"text-align: right;\">                          0</td><td style=\"text-align: right;\">                              0</td><td style=\"text-align: right;\">                    0</td><td style=\"text-align: right;\">                       0</td><td style=\"text-align: right;\">                     1</td><td style=\"text-align: right;\">                      0</td><td style=\"text-align: right;\">           0</td><td style=\"text-align: right;\">           0</td><td style=\"text-align: right;\">           0</td><td style=\"text-align: right;\">           0</td><td style=\"text-align: right;\">           0</td><td style=\"text-align: right;\">           0</td><td style=\"text-align: right;\">           0</td><td style=\"text-align: right;\">           0</td><td style=\"text-align: right;\">           0</td><td style=\"text-align: right;\">                       8500</td><td style=\"text-align: right;\">                       8500</td><td style=\"text-align: right;\">                     8500   </td><td style=\"text-align: right;\">                  1</td><td style=\"text-align: right;\">                   0</td><td style=\"text-align: right;\">                     0</td><td style=\"text-align: right;\">                    0</td><td style=\"text-align: right;\">                  0</td><td style=\"text-align: right;\">                    0</td><td style=\"text-align: right;\">                  0</td><td style=\"text-align: right;\">           0</td><td style=\"text-align: right;\">0.0222453</td><td style=\"text-align: right;\">0.306718 </td><td style=\"text-align: right;\">0.0222313</td><td style=\"text-align: right;\">0.0222243</td><td style=\"text-align: right;\">0.626582 </td><td style=\"text-align: right;\">             0.437409</td><td style=\"text-align: right;\">                  0.0711842</td><td style=\"text-align: right;\">                   0.0297297</td><td style=\"text-align: right;\">                  0.027027  </td><td style=\"text-align: right;\">             0.52381 </td><td style=\"text-align: right;\">             0.47619 </td><td style=\"text-align: right;\">               0.35061 </td><td style=\"text-align: right;\">              0.136364 </td><td style=\"text-align: right;\">                    0.6</td><td style=\"text-align: right;\">              -0.195   </td><td style=\"text-align: right;\">                 -0.4  </td><td style=\"text-align: right;\">              -0.1     </td><td style=\"text-align: right;\">            0.642857</td><td style=\"text-align: right;\">                  0.214286</td><td style=\"text-align: right;\">               0.142857 </td><td style=\"text-align: right;\">                      0.214286</td><td style=\"text-align: right;\">     855</td></tr>\n",
       "<tr><td>http://mashable.com/2013/01/07/bodymedia-armbandgets-update/  </td><td style=\"text-align: right;\">        731</td><td style=\"text-align: right;\">               8</td><td style=\"text-align: right;\">               960</td><td style=\"text-align: right;\">         0.418163</td><td style=\"text-align: right;\">                 1</td><td style=\"text-align: right;\">                  0.549834</td><td style=\"text-align: right;\">         21</td><td style=\"text-align: right;\">              20</td><td style=\"text-align: right;\">        20</td><td style=\"text-align: right;\">           0</td><td style=\"text-align: right;\">               4.65417</td><td style=\"text-align: right;\">            10</td><td style=\"text-align: right;\">                          1</td><td style=\"text-align: right;\">                              0</td><td style=\"text-align: right;\">                    0</td><td style=\"text-align: right;\">                       0</td><td style=\"text-align: right;\">                     0</td><td style=\"text-align: right;\">                      0</td><td style=\"text-align: right;\">           0</td><td style=\"text-align: right;\">           0</td><td style=\"text-align: right;\">           0</td><td style=\"text-align: right;\">           0</td><td style=\"text-align: right;\">           0</td><td style=\"text-align: right;\">           0</td><td style=\"text-align: right;\">           0</td><td style=\"text-align: right;\">           0</td><td style=\"text-align: right;\">           0</td><td style=\"text-align: right;\">                        545</td><td style=\"text-align: right;\">                      16000</td><td style=\"text-align: right;\">                     3151.16</td><td style=\"text-align: right;\">                  1</td><td style=\"text-align: right;\">                   0</td><td style=\"text-align: right;\">                     0</td><td style=\"text-align: right;\">                    0</td><td style=\"text-align: right;\">                  0</td><td style=\"text-align: right;\">                    0</td><td style=\"text-align: right;\">                  0</td><td style=\"text-align: right;\">           0</td><td style=\"text-align: right;\">0.0200817</td><td style=\"text-align: right;\">0.114705 </td><td style=\"text-align: right;\">0.0200244</td><td style=\"text-align: right;\">0.0200153</td><td style=\"text-align: right;\">0.825173 </td><td style=\"text-align: right;\">             0.51448 </td><td style=\"text-align: right;\">                  0.268303 </td><td style=\"text-align: right;\">                   0.0802083</td><td style=\"text-align: right;\">                  0.0166667 </td><td style=\"text-align: right;\">             0.827957</td><td style=\"text-align: right;\">             0.172043</td><td style=\"text-align: right;\">               0.402039</td><td style=\"text-align: right;\">              0.1      </td><td style=\"text-align: right;\">                    1  </td><td style=\"text-align: right;\">              -0.224479</td><td style=\"text-align: right;\">                 -0.5  </td><td style=\"text-align: right;\">              -0.05    </td><td style=\"text-align: right;\">            0       </td><td style=\"text-align: right;\">                  0       </td><td style=\"text-align: right;\">               0.5      </td><td style=\"text-align: right;\">                      0       </td><td style=\"text-align: right;\">     556</td></tr>\n",
       "<tr><td>http://mashable.com/2013/01/07/canon-poweshot-n/              </td><td style=\"text-align: right;\">        731</td><td style=\"text-align: right;\">              12</td><td style=\"text-align: right;\">               989</td><td style=\"text-align: right;\">         0.433574</td><td style=\"text-align: right;\">                 1</td><td style=\"text-align: right;\">                  0.572108</td><td style=\"text-align: right;\">         20</td><td style=\"text-align: right;\">              20</td><td style=\"text-align: right;\">        20</td><td style=\"text-align: right;\">           0</td><td style=\"text-align: right;\">               4.6178 </td><td style=\"text-align: right;\">             9</td><td style=\"text-align: right;\">                          0</td><td style=\"text-align: right;\">                              0</td><td style=\"text-align: right;\">                    0</td><td style=\"text-align: right;\">                       0</td><td style=\"text-align: right;\">                     1</td><td style=\"text-align: right;\">                      0</td><td style=\"text-align: right;\">           0</td><td style=\"text-align: right;\">           0</td><td style=\"text-align: right;\">           0</td><td style=\"text-align: right;\">           0</td><td style=\"text-align: right;\">           0</td><td style=\"text-align: right;\">           0</td><td style=\"text-align: right;\">           0</td><td style=\"text-align: right;\">           0</td><td style=\"text-align: right;\">           0</td><td style=\"text-align: right;\">                        545</td><td style=\"text-align: right;\">                      16000</td><td style=\"text-align: right;\">                     3151.16</td><td style=\"text-align: right;\">                  1</td><td style=\"text-align: right;\">                   0</td><td style=\"text-align: right;\">                     0</td><td style=\"text-align: right;\">                    0</td><td style=\"text-align: right;\">                  0</td><td style=\"text-align: right;\">                    0</td><td style=\"text-align: right;\">                  0</td><td style=\"text-align: right;\">           0</td><td style=\"text-align: right;\">0.0222244</td><td style=\"text-align: right;\">0.150733 </td><td style=\"text-align: right;\">0.243435 </td><td style=\"text-align: right;\">0.0222236</td><td style=\"text-align: right;\">0.561384 </td><td style=\"text-align: right;\">             0.543474</td><td style=\"text-align: right;\">                  0.298613 </td><td style=\"text-align: right;\">                   0.0839232</td><td style=\"text-align: right;\">                  0.0151668 </td><td style=\"text-align: right;\">             0.846939</td><td style=\"text-align: right;\">             0.153061</td><td style=\"text-align: right;\">               0.42772 </td><td style=\"text-align: right;\">              0.1      </td><td style=\"text-align: right;\">                    1  </td><td style=\"text-align: right;\">              -0.242778</td><td style=\"text-align: right;\">                 -0.5  </td><td style=\"text-align: right;\">              -0.05    </td><td style=\"text-align: right;\">            1       </td><td style=\"text-align: right;\">                  0.5     </td><td style=\"text-align: right;\">               0.5      </td><td style=\"text-align: right;\">                      0.5     </td><td style=\"text-align: right;\">     891</td></tr>\n",
       "<tr><td>http://mashable.com/2013/01/07/car-of-the-future-infographic/ </td><td style=\"text-align: right;\">        731</td><td style=\"text-align: right;\">              11</td><td style=\"text-align: right;\">                97</td><td style=\"text-align: right;\">         0.670103</td><td style=\"text-align: right;\">                 1</td><td style=\"text-align: right;\">                  0.836735</td><td style=\"text-align: right;\">          2</td><td style=\"text-align: right;\">               0</td><td style=\"text-align: right;\">         0</td><td style=\"text-align: right;\">           0</td><td style=\"text-align: right;\">               4.85567</td><td style=\"text-align: right;\">             7</td><td style=\"text-align: right;\">                          0</td><td style=\"text-align: right;\">                              0</td><td style=\"text-align: right;\">                    0</td><td style=\"text-align: right;\">                       0</td><td style=\"text-align: right;\">                     1</td><td style=\"text-align: right;\">                      0</td><td style=\"text-align: right;\">           0</td><td style=\"text-align: right;\">           0</td><td style=\"text-align: right;\">           0</td><td style=\"text-align: right;\">           0</td><td style=\"text-align: right;\">           0</td><td style=\"text-align: right;\">           0</td><td style=\"text-align: right;\">           0</td><td style=\"text-align: right;\">           0</td><td style=\"text-align: right;\">           0</td><td style=\"text-align: right;\">                          0</td><td style=\"text-align: right;\">                          0</td><td style=\"text-align: right;\">                        0   </td><td style=\"text-align: right;\">                  1</td><td style=\"text-align: right;\">                   0</td><td style=\"text-align: right;\">                     0</td><td style=\"text-align: right;\">                    0</td><td style=\"text-align: right;\">                  0</td><td style=\"text-align: right;\">                    0</td><td style=\"text-align: right;\">                  0</td><td style=\"text-align: right;\">           0</td><td style=\"text-align: right;\">0.45825  </td><td style=\"text-align: right;\">0.0289794</td><td style=\"text-align: right;\">0.0286619</td><td style=\"text-align: right;\">0.0296959</td><td style=\"text-align: right;\">0.454412 </td><td style=\"text-align: right;\">             0.538889</td><td style=\"text-align: right;\">                  0.161111 </td><td style=\"text-align: right;\">                   0.0309278</td><td style=\"text-align: right;\">                  0.0206186 </td><td style=\"text-align: right;\">             0.6     </td><td style=\"text-align: right;\">             0.4     </td><td style=\"text-align: right;\">               0.566667</td><td style=\"text-align: right;\">              0.4      </td><td style=\"text-align: right;\">                    0.8</td><td style=\"text-align: right;\">              -0.125   </td><td style=\"text-align: right;\">                 -0.125</td><td style=\"text-align: right;\">              -0.125   </td><td style=\"text-align: right;\">            0.125   </td><td style=\"text-align: right;\">                  0       </td><td style=\"text-align: right;\">               0.375    </td><td style=\"text-align: right;\">                      0       </td><td style=\"text-align: right;\">    3600</td></tr>\n",
       "<tr><td>http://mashable.com/2013/01/07/chuck-hagel-website/           </td><td style=\"text-align: right;\">        731</td><td style=\"text-align: right;\">              10</td><td style=\"text-align: right;\">               231</td><td style=\"text-align: right;\">         0.636364</td><td style=\"text-align: right;\">                 1</td><td style=\"text-align: right;\">                  0.797101</td><td style=\"text-align: right;\">          4</td><td style=\"text-align: right;\">               1</td><td style=\"text-align: right;\">         1</td><td style=\"text-align: right;\">           1</td><td style=\"text-align: right;\">               5.09091</td><td style=\"text-align: right;\">             5</td><td style=\"text-align: right;\">                          0</td><td style=\"text-align: right;\">                              0</td><td style=\"text-align: right;\">                    0</td><td style=\"text-align: right;\">                       0</td><td style=\"text-align: right;\">                     0</td><td style=\"text-align: right;\">                      1</td><td style=\"text-align: right;\">           0</td><td style=\"text-align: right;\">           0</td><td style=\"text-align: right;\">           0</td><td style=\"text-align: right;\">           0</td><td style=\"text-align: right;\">           0</td><td style=\"text-align: right;\">           0</td><td style=\"text-align: right;\">           0</td><td style=\"text-align: right;\">           0</td><td style=\"text-align: right;\">           0</td><td style=\"text-align: right;\">                          0</td><td style=\"text-align: right;\">                          0</td><td style=\"text-align: right;\">                        0   </td><td style=\"text-align: right;\">                  1</td><td style=\"text-align: right;\">                   0</td><td style=\"text-align: right;\">                     0</td><td style=\"text-align: right;\">                    0</td><td style=\"text-align: right;\">                  0</td><td style=\"text-align: right;\">                    0</td><td style=\"text-align: right;\">                  0</td><td style=\"text-align: right;\">           0</td><td style=\"text-align: right;\">0.0400001</td><td style=\"text-align: right;\">0.04     </td><td style=\"text-align: right;\">0.839997 </td><td style=\"text-align: right;\">0.0400006</td><td style=\"text-align: right;\">0.040002 </td><td style=\"text-align: right;\">             0.313889</td><td style=\"text-align: right;\">                  0.0518519</td><td style=\"text-align: right;\">                   0.038961 </td><td style=\"text-align: right;\">                  0.030303  </td><td style=\"text-align: right;\">             0.5625  </td><td style=\"text-align: right;\">             0.4375  </td><td style=\"text-align: right;\">               0.298413</td><td style=\"text-align: right;\">              0.1      </td><td style=\"text-align: right;\">                    0.5</td><td style=\"text-align: right;\">              -0.238095</td><td style=\"text-align: right;\">                 -0.5  </td><td style=\"text-align: right;\">              -0.1     </td><td style=\"text-align: right;\">            0       </td><td style=\"text-align: right;\">                  0       </td><td style=\"text-align: right;\">               0.5      </td><td style=\"text-align: right;\">                      0       </td><td style=\"text-align: right;\">     710</td></tr>\n",
       "</tbody>\n",
       "</table>"
      ]
     },
     "metadata": {},
     "output_type": "display_data"
    },
    {
     "data": {
      "text/plain": []
     },
     "execution_count": 328,
     "metadata": {},
     "output_type": "execute_result"
    }
   ],
   "source": [
    "data.head()"
   ]
  },
  {
   "cell_type": "code",
   "execution_count": 329,
   "metadata": {},
   "outputs": [],
   "source": [
    "def convertor(x):\n",
    "    if(x > 1400):\n",
    "        return 1\n",
    "    else:\n",
    "        return 0"
   ]
  },
  {
   "cell_type": "code",
   "execution_count": 330,
   "metadata": {},
   "outputs": [],
   "source": [
    "NumberOfShares = data['shares']"
   ]
  },
  {
   "cell_type": "code",
   "execution_count": 331,
   "metadata": {},
   "outputs": [],
   "source": [
    "data = data.concat(NumberOfShares, axis=1)"
   ]
  },
  {
   "cell_type": "code",
   "execution_count": 332,
   "metadata": {},
   "outputs": [],
   "source": [
    "data['shares2'] = (data['shares'] > 1400).ifelse(1,0)"
   ]
  },
  {
   "cell_type": "code",
   "execution_count": 333,
   "metadata": {},
   "outputs": [
    {
     "data": {
      "text/html": [
       "<table>\n",
       "<thead>\n",
       "<tr><th>url                                                           </th><th style=\"text-align: right;\">  timedelta</th><th style=\"text-align: right;\">  n_tokens_title</th><th style=\"text-align: right;\">  n_tokens_content</th><th style=\"text-align: right;\">  n_unique_tokens</th><th style=\"text-align: right;\">  n_non_stop_words</th><th style=\"text-align: right;\">  n_non_stop_unique_tokens</th><th style=\"text-align: right;\">  num_hrefs</th><th style=\"text-align: right;\">  num_self_hrefs</th><th style=\"text-align: right;\">  num_imgs</th><th style=\"text-align: right;\">  num_videos</th><th style=\"text-align: right;\">  average_token_length</th><th style=\"text-align: right;\">  num_keywords</th><th style=\"text-align: right;\">  data_channel_is_lifestyle</th><th style=\"text-align: right;\">  data_channel_is_entertainment</th><th style=\"text-align: right;\">  data_channel_is_bus</th><th style=\"text-align: right;\">  data_channel_is_socmed</th><th style=\"text-align: right;\">  data_channel_is_tech</th><th style=\"text-align: right;\">  data_channel_is_world</th><th style=\"text-align: right;\">  kw_min_min</th><th style=\"text-align: right;\">  kw_max_min</th><th style=\"text-align: right;\">  kw_avg_min</th><th style=\"text-align: right;\">  kw_min_max</th><th style=\"text-align: right;\">  kw_max_max</th><th style=\"text-align: right;\">  kw_avg_max</th><th style=\"text-align: right;\">  kw_min_avg</th><th style=\"text-align: right;\">  kw_max_avg</th><th style=\"text-align: right;\">  kw_avg_avg</th><th style=\"text-align: right;\">  self_reference_min_shares</th><th style=\"text-align: right;\">  self_reference_max_shares</th><th style=\"text-align: right;\">  self_reference_avg_sharess</th><th style=\"text-align: right;\">  weekday_is_monday</th><th style=\"text-align: right;\">  weekday_is_tuesday</th><th style=\"text-align: right;\">  weekday_is_wednesday</th><th style=\"text-align: right;\">  weekday_is_thursday</th><th style=\"text-align: right;\">  weekday_is_friday</th><th style=\"text-align: right;\">  weekday_is_saturday</th><th style=\"text-align: right;\">  weekday_is_sunday</th><th style=\"text-align: right;\">  is_weekend</th><th style=\"text-align: right;\">   LDA_00</th><th style=\"text-align: right;\">   LDA_01</th><th style=\"text-align: right;\">   LDA_02</th><th style=\"text-align: right;\">   LDA_03</th><th style=\"text-align: right;\">   LDA_04</th><th style=\"text-align: right;\">  global_subjectivity</th><th style=\"text-align: right;\">  global_sentiment_polarity</th><th style=\"text-align: right;\">  global_rate_positive_words</th><th style=\"text-align: right;\">  global_rate_negative_words</th><th style=\"text-align: right;\">  rate_positive_words</th><th style=\"text-align: right;\">  rate_negative_words</th><th style=\"text-align: right;\">  avg_positive_polarity</th><th style=\"text-align: right;\">  min_positive_polarity</th><th style=\"text-align: right;\">  max_positive_polarity</th><th style=\"text-align: right;\">  avg_negative_polarity</th><th style=\"text-align: right;\">  min_negative_polarity</th><th style=\"text-align: right;\">  max_negative_polarity</th><th style=\"text-align: right;\">  title_subjectivity</th><th style=\"text-align: right;\">  title_sentiment_polarity</th><th style=\"text-align: right;\">  abs_title_subjectivity</th><th style=\"text-align: right;\">  abs_title_sentiment_polarity</th><th style=\"text-align: right;\">  shares</th><th style=\"text-align: right;\">  shares0</th><th style=\"text-align: right;\">  shares2</th></tr>\n",
       "</thead>\n",
       "<tbody>\n",
       "<tr><td>http://mashable.com/2013/01/07/amazon-instant-video-browser/  </td><td style=\"text-align: right;\">        731</td><td style=\"text-align: right;\">              12</td><td style=\"text-align: right;\">               219</td><td style=\"text-align: right;\">         0.663594</td><td style=\"text-align: right;\">                 1</td><td style=\"text-align: right;\">                  0.815385</td><td style=\"text-align: right;\">          4</td><td style=\"text-align: right;\">               2</td><td style=\"text-align: right;\">         1</td><td style=\"text-align: right;\">           0</td><td style=\"text-align: right;\">               4.68037</td><td style=\"text-align: right;\">             5</td><td style=\"text-align: right;\">                          0</td><td style=\"text-align: right;\">                              1</td><td style=\"text-align: right;\">                    0</td><td style=\"text-align: right;\">                       0</td><td style=\"text-align: right;\">                     0</td><td style=\"text-align: right;\">                      0</td><td style=\"text-align: right;\">           0</td><td style=\"text-align: right;\">           0</td><td style=\"text-align: right;\">           0</td><td style=\"text-align: right;\">           0</td><td style=\"text-align: right;\">           0</td><td style=\"text-align: right;\">           0</td><td style=\"text-align: right;\">           0</td><td style=\"text-align: right;\">           0</td><td style=\"text-align: right;\">           0</td><td style=\"text-align: right;\">                        496</td><td style=\"text-align: right;\">                        496</td><td style=\"text-align: right;\">                      496   </td><td style=\"text-align: right;\">                  1</td><td style=\"text-align: right;\">                   0</td><td style=\"text-align: right;\">                     0</td><td style=\"text-align: right;\">                    0</td><td style=\"text-align: right;\">                  0</td><td style=\"text-align: right;\">                    0</td><td style=\"text-align: right;\">                  0</td><td style=\"text-align: right;\">           0</td><td style=\"text-align: right;\">0.500331 </td><td style=\"text-align: right;\">0.378279 </td><td style=\"text-align: right;\">0.0400047</td><td style=\"text-align: right;\">0.0412626</td><td style=\"text-align: right;\">0.0401225</td><td style=\"text-align: right;\">             0.521617</td><td style=\"text-align: right;\">                  0.092562 </td><td style=\"text-align: right;\">                   0.0456621</td><td style=\"text-align: right;\">                  0.0136986 </td><td style=\"text-align: right;\">             0.769231</td><td style=\"text-align: right;\">             0.230769</td><td style=\"text-align: right;\">               0.378636</td><td style=\"text-align: right;\">              0.1      </td><td style=\"text-align: right;\">                    0.7</td><td style=\"text-align: right;\">              -0.35    </td><td style=\"text-align: right;\">                 -0.6  </td><td style=\"text-align: right;\">              -0.2     </td><td style=\"text-align: right;\">            0.5     </td><td style=\"text-align: right;\">                 -0.1875  </td><td style=\"text-align: right;\">               0        </td><td style=\"text-align: right;\">                      0.1875  </td><td style=\"text-align: right;\">     593</td><td style=\"text-align: right;\">      593</td><td style=\"text-align: right;\">        0</td></tr>\n",
       "<tr><td>http://mashable.com/2013/01/07/ap-samsung-sponsored-tweets/   </td><td style=\"text-align: right;\">        731</td><td style=\"text-align: right;\">               9</td><td style=\"text-align: right;\">               255</td><td style=\"text-align: right;\">         0.604743</td><td style=\"text-align: right;\">                 1</td><td style=\"text-align: right;\">                  0.791946</td><td style=\"text-align: right;\">          3</td><td style=\"text-align: right;\">               1</td><td style=\"text-align: right;\">         1</td><td style=\"text-align: right;\">           0</td><td style=\"text-align: right;\">               4.91373</td><td style=\"text-align: right;\">             4</td><td style=\"text-align: right;\">                          0</td><td style=\"text-align: right;\">                              0</td><td style=\"text-align: right;\">                    1</td><td style=\"text-align: right;\">                       0</td><td style=\"text-align: right;\">                     0</td><td style=\"text-align: right;\">                      0</td><td style=\"text-align: right;\">           0</td><td style=\"text-align: right;\">           0</td><td style=\"text-align: right;\">           0</td><td style=\"text-align: right;\">           0</td><td style=\"text-align: right;\">           0</td><td style=\"text-align: right;\">           0</td><td style=\"text-align: right;\">           0</td><td style=\"text-align: right;\">           0</td><td style=\"text-align: right;\">           0</td><td style=\"text-align: right;\">                          0</td><td style=\"text-align: right;\">                          0</td><td style=\"text-align: right;\">                        0   </td><td style=\"text-align: right;\">                  1</td><td style=\"text-align: right;\">                   0</td><td style=\"text-align: right;\">                     0</td><td style=\"text-align: right;\">                    0</td><td style=\"text-align: right;\">                  0</td><td style=\"text-align: right;\">                    0</td><td style=\"text-align: right;\">                  0</td><td style=\"text-align: right;\">           0</td><td style=\"text-align: right;\">0.799756 </td><td style=\"text-align: right;\">0.0500467</td><td style=\"text-align: right;\">0.0500963</td><td style=\"text-align: right;\">0.0501007</td><td style=\"text-align: right;\">0.0500007</td><td style=\"text-align: right;\">             0.341246</td><td style=\"text-align: right;\">                  0.148948 </td><td style=\"text-align: right;\">                   0.0431373</td><td style=\"text-align: right;\">                  0.0156863 </td><td style=\"text-align: right;\">             0.733333</td><td style=\"text-align: right;\">             0.266667</td><td style=\"text-align: right;\">               0.286915</td><td style=\"text-align: right;\">              0.0333333</td><td style=\"text-align: right;\">                    0.7</td><td style=\"text-align: right;\">              -0.11875 </td><td style=\"text-align: right;\">                 -0.125</td><td style=\"text-align: right;\">              -0.1     </td><td style=\"text-align: right;\">            0       </td><td style=\"text-align: right;\">                  0       </td><td style=\"text-align: right;\">               0.5      </td><td style=\"text-align: right;\">                      0       </td><td style=\"text-align: right;\">     711</td><td style=\"text-align: right;\">      711</td><td style=\"text-align: right;\">        0</td></tr>\n",
       "<tr><td>http://mashable.com/2013/01/07/apple-40-billion-app-downloads/</td><td style=\"text-align: right;\">        731</td><td style=\"text-align: right;\">               9</td><td style=\"text-align: right;\">               211</td><td style=\"text-align: right;\">         0.57513 </td><td style=\"text-align: right;\">                 1</td><td style=\"text-align: right;\">                  0.663866</td><td style=\"text-align: right;\">          3</td><td style=\"text-align: right;\">               1</td><td style=\"text-align: right;\">         1</td><td style=\"text-align: right;\">           0</td><td style=\"text-align: right;\">               4.39336</td><td style=\"text-align: right;\">             6</td><td style=\"text-align: right;\">                          0</td><td style=\"text-align: right;\">                              0</td><td style=\"text-align: right;\">                    1</td><td style=\"text-align: right;\">                       0</td><td style=\"text-align: right;\">                     0</td><td style=\"text-align: right;\">                      0</td><td style=\"text-align: right;\">           0</td><td style=\"text-align: right;\">           0</td><td style=\"text-align: right;\">           0</td><td style=\"text-align: right;\">           0</td><td style=\"text-align: right;\">           0</td><td style=\"text-align: right;\">           0</td><td style=\"text-align: right;\">           0</td><td style=\"text-align: right;\">           0</td><td style=\"text-align: right;\">           0</td><td style=\"text-align: right;\">                        918</td><td style=\"text-align: right;\">                        918</td><td style=\"text-align: right;\">                      918   </td><td style=\"text-align: right;\">                  1</td><td style=\"text-align: right;\">                   0</td><td style=\"text-align: right;\">                     0</td><td style=\"text-align: right;\">                    0</td><td style=\"text-align: right;\">                  0</td><td style=\"text-align: right;\">                    0</td><td style=\"text-align: right;\">                  0</td><td style=\"text-align: right;\">           0</td><td style=\"text-align: right;\">0.217792 </td><td style=\"text-align: right;\">0.0333345</td><td style=\"text-align: right;\">0.0333514</td><td style=\"text-align: right;\">0.0333335</td><td style=\"text-align: right;\">0.682188 </td><td style=\"text-align: right;\">             0.702222</td><td style=\"text-align: right;\">                  0.323333 </td><td style=\"text-align: right;\">                   0.056872 </td><td style=\"text-align: right;\">                  0.00947867</td><td style=\"text-align: right;\">             0.857143</td><td style=\"text-align: right;\">             0.142857</td><td style=\"text-align: right;\">               0.495833</td><td style=\"text-align: right;\">              0.1      </td><td style=\"text-align: right;\">                    1  </td><td style=\"text-align: right;\">              -0.466667</td><td style=\"text-align: right;\">                 -0.8  </td><td style=\"text-align: right;\">              -0.133333</td><td style=\"text-align: right;\">            0       </td><td style=\"text-align: right;\">                  0       </td><td style=\"text-align: right;\">               0.5      </td><td style=\"text-align: right;\">                      0       </td><td style=\"text-align: right;\">    1500</td><td style=\"text-align: right;\">     1500</td><td style=\"text-align: right;\">        1</td></tr>\n",
       "<tr><td>http://mashable.com/2013/01/07/astronaut-notre-dame-bcs/      </td><td style=\"text-align: right;\">        731</td><td style=\"text-align: right;\">               9</td><td style=\"text-align: right;\">               531</td><td style=\"text-align: right;\">         0.503788</td><td style=\"text-align: right;\">                 1</td><td style=\"text-align: right;\">                  0.665635</td><td style=\"text-align: right;\">          9</td><td style=\"text-align: right;\">               0</td><td style=\"text-align: right;\">         1</td><td style=\"text-align: right;\">           0</td><td style=\"text-align: right;\">               4.4049 </td><td style=\"text-align: right;\">             7</td><td style=\"text-align: right;\">                          0</td><td style=\"text-align: right;\">                              1</td><td style=\"text-align: right;\">                    0</td><td style=\"text-align: right;\">                       0</td><td style=\"text-align: right;\">                     0</td><td style=\"text-align: right;\">                      0</td><td style=\"text-align: right;\">           0</td><td style=\"text-align: right;\">           0</td><td style=\"text-align: right;\">           0</td><td style=\"text-align: right;\">           0</td><td style=\"text-align: right;\">           0</td><td style=\"text-align: right;\">           0</td><td style=\"text-align: right;\">           0</td><td style=\"text-align: right;\">           0</td><td style=\"text-align: right;\">           0</td><td style=\"text-align: right;\">                          0</td><td style=\"text-align: right;\">                          0</td><td style=\"text-align: right;\">                        0   </td><td style=\"text-align: right;\">                  1</td><td style=\"text-align: right;\">                   0</td><td style=\"text-align: right;\">                     0</td><td style=\"text-align: right;\">                    0</td><td style=\"text-align: right;\">                  0</td><td style=\"text-align: right;\">                    0</td><td style=\"text-align: right;\">                  0</td><td style=\"text-align: right;\">           0</td><td style=\"text-align: right;\">0.0285732</td><td style=\"text-align: right;\">0.4193   </td><td style=\"text-align: right;\">0.494651 </td><td style=\"text-align: right;\">0.0289047</td><td style=\"text-align: right;\">0.0285716</td><td style=\"text-align: right;\">             0.42985 </td><td style=\"text-align: right;\">                  0.100705 </td><td style=\"text-align: right;\">                   0.0414313</td><td style=\"text-align: right;\">                  0.0207156 </td><td style=\"text-align: right;\">             0.666667</td><td style=\"text-align: right;\">             0.333333</td><td style=\"text-align: right;\">               0.385965</td><td style=\"text-align: right;\">              0.136364 </td><td style=\"text-align: right;\">                    0.8</td><td style=\"text-align: right;\">              -0.369697</td><td style=\"text-align: right;\">                 -0.6  </td><td style=\"text-align: right;\">              -0.166667</td><td style=\"text-align: right;\">            0       </td><td style=\"text-align: right;\">                  0       </td><td style=\"text-align: right;\">               0.5      </td><td style=\"text-align: right;\">                      0       </td><td style=\"text-align: right;\">    1200</td><td style=\"text-align: right;\">     1200</td><td style=\"text-align: right;\">        0</td></tr>\n",
       "<tr><td>http://mashable.com/2013/01/07/att-u-verse-apps/              </td><td style=\"text-align: right;\">        731</td><td style=\"text-align: right;\">              13</td><td style=\"text-align: right;\">              1072</td><td style=\"text-align: right;\">         0.415646</td><td style=\"text-align: right;\">                 1</td><td style=\"text-align: right;\">                  0.54089 </td><td style=\"text-align: right;\">         19</td><td style=\"text-align: right;\">              19</td><td style=\"text-align: right;\">        20</td><td style=\"text-align: right;\">           0</td><td style=\"text-align: right;\">               4.68284</td><td style=\"text-align: right;\">             7</td><td style=\"text-align: right;\">                          0</td><td style=\"text-align: right;\">                              0</td><td style=\"text-align: right;\">                    0</td><td style=\"text-align: right;\">                       0</td><td style=\"text-align: right;\">                     1</td><td style=\"text-align: right;\">                      0</td><td style=\"text-align: right;\">           0</td><td style=\"text-align: right;\">           0</td><td style=\"text-align: right;\">           0</td><td style=\"text-align: right;\">           0</td><td style=\"text-align: right;\">           0</td><td style=\"text-align: right;\">           0</td><td style=\"text-align: right;\">           0</td><td style=\"text-align: right;\">           0</td><td style=\"text-align: right;\">           0</td><td style=\"text-align: right;\">                        545</td><td style=\"text-align: right;\">                      16000</td><td style=\"text-align: right;\">                     3151.16</td><td style=\"text-align: right;\">                  1</td><td style=\"text-align: right;\">                   0</td><td style=\"text-align: right;\">                     0</td><td style=\"text-align: right;\">                    0</td><td style=\"text-align: right;\">                  0</td><td style=\"text-align: right;\">                    0</td><td style=\"text-align: right;\">                  0</td><td style=\"text-align: right;\">           0</td><td style=\"text-align: right;\">0.0286328</td><td style=\"text-align: right;\">0.0287936</td><td style=\"text-align: right;\">0.0285752</td><td style=\"text-align: right;\">0.0285717</td><td style=\"text-align: right;\">0.885427 </td><td style=\"text-align: right;\">             0.513502</td><td style=\"text-align: right;\">                  0.281003 </td><td style=\"text-align: right;\">                   0.0746269</td><td style=\"text-align: right;\">                  0.0121269 </td><td style=\"text-align: right;\">             0.860215</td><td style=\"text-align: right;\">             0.139785</td><td style=\"text-align: right;\">               0.411127</td><td style=\"text-align: right;\">              0.0333333</td><td style=\"text-align: right;\">                    1  </td><td style=\"text-align: right;\">              -0.220192</td><td style=\"text-align: right;\">                 -0.5  </td><td style=\"text-align: right;\">              -0.05    </td><td style=\"text-align: right;\">            0.454545</td><td style=\"text-align: right;\">                  0.136364</td><td style=\"text-align: right;\">               0.0454545</td><td style=\"text-align: right;\">                      0.136364</td><td style=\"text-align: right;\">     505</td><td style=\"text-align: right;\">      505</td><td style=\"text-align: right;\">        0</td></tr>\n",
       "<tr><td>http://mashable.com/2013/01/07/beewi-smart-toys/              </td><td style=\"text-align: right;\">        731</td><td style=\"text-align: right;\">              10</td><td style=\"text-align: right;\">               370</td><td style=\"text-align: right;\">         0.559889</td><td style=\"text-align: right;\">                 1</td><td style=\"text-align: right;\">                  0.698198</td><td style=\"text-align: right;\">          2</td><td style=\"text-align: right;\">               2</td><td style=\"text-align: right;\">         0</td><td style=\"text-align: right;\">           0</td><td style=\"text-align: right;\">               4.35946</td><td style=\"text-align: right;\">             9</td><td style=\"text-align: right;\">                          0</td><td style=\"text-align: right;\">                              0</td><td style=\"text-align: right;\">                    0</td><td style=\"text-align: right;\">                       0</td><td style=\"text-align: right;\">                     1</td><td style=\"text-align: right;\">                      0</td><td style=\"text-align: right;\">           0</td><td style=\"text-align: right;\">           0</td><td style=\"text-align: right;\">           0</td><td style=\"text-align: right;\">           0</td><td style=\"text-align: right;\">           0</td><td style=\"text-align: right;\">           0</td><td style=\"text-align: right;\">           0</td><td style=\"text-align: right;\">           0</td><td style=\"text-align: right;\">           0</td><td style=\"text-align: right;\">                       8500</td><td style=\"text-align: right;\">                       8500</td><td style=\"text-align: right;\">                     8500   </td><td style=\"text-align: right;\">                  1</td><td style=\"text-align: right;\">                   0</td><td style=\"text-align: right;\">                     0</td><td style=\"text-align: right;\">                    0</td><td style=\"text-align: right;\">                  0</td><td style=\"text-align: right;\">                    0</td><td style=\"text-align: right;\">                  0</td><td style=\"text-align: right;\">           0</td><td style=\"text-align: right;\">0.0222453</td><td style=\"text-align: right;\">0.306718 </td><td style=\"text-align: right;\">0.0222313</td><td style=\"text-align: right;\">0.0222243</td><td style=\"text-align: right;\">0.626582 </td><td style=\"text-align: right;\">             0.437409</td><td style=\"text-align: right;\">                  0.0711842</td><td style=\"text-align: right;\">                   0.0297297</td><td style=\"text-align: right;\">                  0.027027  </td><td style=\"text-align: right;\">             0.52381 </td><td style=\"text-align: right;\">             0.47619 </td><td style=\"text-align: right;\">               0.35061 </td><td style=\"text-align: right;\">              0.136364 </td><td style=\"text-align: right;\">                    0.6</td><td style=\"text-align: right;\">              -0.195   </td><td style=\"text-align: right;\">                 -0.4  </td><td style=\"text-align: right;\">              -0.1     </td><td style=\"text-align: right;\">            0.642857</td><td style=\"text-align: right;\">                  0.214286</td><td style=\"text-align: right;\">               0.142857 </td><td style=\"text-align: right;\">                      0.214286</td><td style=\"text-align: right;\">     855</td><td style=\"text-align: right;\">      855</td><td style=\"text-align: right;\">        0</td></tr>\n",
       "<tr><td>http://mashable.com/2013/01/07/bodymedia-armbandgets-update/  </td><td style=\"text-align: right;\">        731</td><td style=\"text-align: right;\">               8</td><td style=\"text-align: right;\">               960</td><td style=\"text-align: right;\">         0.418163</td><td style=\"text-align: right;\">                 1</td><td style=\"text-align: right;\">                  0.549834</td><td style=\"text-align: right;\">         21</td><td style=\"text-align: right;\">              20</td><td style=\"text-align: right;\">        20</td><td style=\"text-align: right;\">           0</td><td style=\"text-align: right;\">               4.65417</td><td style=\"text-align: right;\">            10</td><td style=\"text-align: right;\">                          1</td><td style=\"text-align: right;\">                              0</td><td style=\"text-align: right;\">                    0</td><td style=\"text-align: right;\">                       0</td><td style=\"text-align: right;\">                     0</td><td style=\"text-align: right;\">                      0</td><td style=\"text-align: right;\">           0</td><td style=\"text-align: right;\">           0</td><td style=\"text-align: right;\">           0</td><td style=\"text-align: right;\">           0</td><td style=\"text-align: right;\">           0</td><td style=\"text-align: right;\">           0</td><td style=\"text-align: right;\">           0</td><td style=\"text-align: right;\">           0</td><td style=\"text-align: right;\">           0</td><td style=\"text-align: right;\">                        545</td><td style=\"text-align: right;\">                      16000</td><td style=\"text-align: right;\">                     3151.16</td><td style=\"text-align: right;\">                  1</td><td style=\"text-align: right;\">                   0</td><td style=\"text-align: right;\">                     0</td><td style=\"text-align: right;\">                    0</td><td style=\"text-align: right;\">                  0</td><td style=\"text-align: right;\">                    0</td><td style=\"text-align: right;\">                  0</td><td style=\"text-align: right;\">           0</td><td style=\"text-align: right;\">0.0200817</td><td style=\"text-align: right;\">0.114705 </td><td style=\"text-align: right;\">0.0200244</td><td style=\"text-align: right;\">0.0200153</td><td style=\"text-align: right;\">0.825173 </td><td style=\"text-align: right;\">             0.51448 </td><td style=\"text-align: right;\">                  0.268303 </td><td style=\"text-align: right;\">                   0.0802083</td><td style=\"text-align: right;\">                  0.0166667 </td><td style=\"text-align: right;\">             0.827957</td><td style=\"text-align: right;\">             0.172043</td><td style=\"text-align: right;\">               0.402039</td><td style=\"text-align: right;\">              0.1      </td><td style=\"text-align: right;\">                    1  </td><td style=\"text-align: right;\">              -0.224479</td><td style=\"text-align: right;\">                 -0.5  </td><td style=\"text-align: right;\">              -0.05    </td><td style=\"text-align: right;\">            0       </td><td style=\"text-align: right;\">                  0       </td><td style=\"text-align: right;\">               0.5      </td><td style=\"text-align: right;\">                      0       </td><td style=\"text-align: right;\">     556</td><td style=\"text-align: right;\">      556</td><td style=\"text-align: right;\">        0</td></tr>\n",
       "<tr><td>http://mashable.com/2013/01/07/canon-poweshot-n/              </td><td style=\"text-align: right;\">        731</td><td style=\"text-align: right;\">              12</td><td style=\"text-align: right;\">               989</td><td style=\"text-align: right;\">         0.433574</td><td style=\"text-align: right;\">                 1</td><td style=\"text-align: right;\">                  0.572108</td><td style=\"text-align: right;\">         20</td><td style=\"text-align: right;\">              20</td><td style=\"text-align: right;\">        20</td><td style=\"text-align: right;\">           0</td><td style=\"text-align: right;\">               4.6178 </td><td style=\"text-align: right;\">             9</td><td style=\"text-align: right;\">                          0</td><td style=\"text-align: right;\">                              0</td><td style=\"text-align: right;\">                    0</td><td style=\"text-align: right;\">                       0</td><td style=\"text-align: right;\">                     1</td><td style=\"text-align: right;\">                      0</td><td style=\"text-align: right;\">           0</td><td style=\"text-align: right;\">           0</td><td style=\"text-align: right;\">           0</td><td style=\"text-align: right;\">           0</td><td style=\"text-align: right;\">           0</td><td style=\"text-align: right;\">           0</td><td style=\"text-align: right;\">           0</td><td style=\"text-align: right;\">           0</td><td style=\"text-align: right;\">           0</td><td style=\"text-align: right;\">                        545</td><td style=\"text-align: right;\">                      16000</td><td style=\"text-align: right;\">                     3151.16</td><td style=\"text-align: right;\">                  1</td><td style=\"text-align: right;\">                   0</td><td style=\"text-align: right;\">                     0</td><td style=\"text-align: right;\">                    0</td><td style=\"text-align: right;\">                  0</td><td style=\"text-align: right;\">                    0</td><td style=\"text-align: right;\">                  0</td><td style=\"text-align: right;\">           0</td><td style=\"text-align: right;\">0.0222244</td><td style=\"text-align: right;\">0.150733 </td><td style=\"text-align: right;\">0.243435 </td><td style=\"text-align: right;\">0.0222236</td><td style=\"text-align: right;\">0.561384 </td><td style=\"text-align: right;\">             0.543474</td><td style=\"text-align: right;\">                  0.298613 </td><td style=\"text-align: right;\">                   0.0839232</td><td style=\"text-align: right;\">                  0.0151668 </td><td style=\"text-align: right;\">             0.846939</td><td style=\"text-align: right;\">             0.153061</td><td style=\"text-align: right;\">               0.42772 </td><td style=\"text-align: right;\">              0.1      </td><td style=\"text-align: right;\">                    1  </td><td style=\"text-align: right;\">              -0.242778</td><td style=\"text-align: right;\">                 -0.5  </td><td style=\"text-align: right;\">              -0.05    </td><td style=\"text-align: right;\">            1       </td><td style=\"text-align: right;\">                  0.5     </td><td style=\"text-align: right;\">               0.5      </td><td style=\"text-align: right;\">                      0.5     </td><td style=\"text-align: right;\">     891</td><td style=\"text-align: right;\">      891</td><td style=\"text-align: right;\">        0</td></tr>\n",
       "<tr><td>http://mashable.com/2013/01/07/car-of-the-future-infographic/ </td><td style=\"text-align: right;\">        731</td><td style=\"text-align: right;\">              11</td><td style=\"text-align: right;\">                97</td><td style=\"text-align: right;\">         0.670103</td><td style=\"text-align: right;\">                 1</td><td style=\"text-align: right;\">                  0.836735</td><td style=\"text-align: right;\">          2</td><td style=\"text-align: right;\">               0</td><td style=\"text-align: right;\">         0</td><td style=\"text-align: right;\">           0</td><td style=\"text-align: right;\">               4.85567</td><td style=\"text-align: right;\">             7</td><td style=\"text-align: right;\">                          0</td><td style=\"text-align: right;\">                              0</td><td style=\"text-align: right;\">                    0</td><td style=\"text-align: right;\">                       0</td><td style=\"text-align: right;\">                     1</td><td style=\"text-align: right;\">                      0</td><td style=\"text-align: right;\">           0</td><td style=\"text-align: right;\">           0</td><td style=\"text-align: right;\">           0</td><td style=\"text-align: right;\">           0</td><td style=\"text-align: right;\">           0</td><td style=\"text-align: right;\">           0</td><td style=\"text-align: right;\">           0</td><td style=\"text-align: right;\">           0</td><td style=\"text-align: right;\">           0</td><td style=\"text-align: right;\">                          0</td><td style=\"text-align: right;\">                          0</td><td style=\"text-align: right;\">                        0   </td><td style=\"text-align: right;\">                  1</td><td style=\"text-align: right;\">                   0</td><td style=\"text-align: right;\">                     0</td><td style=\"text-align: right;\">                    0</td><td style=\"text-align: right;\">                  0</td><td style=\"text-align: right;\">                    0</td><td style=\"text-align: right;\">                  0</td><td style=\"text-align: right;\">           0</td><td style=\"text-align: right;\">0.45825  </td><td style=\"text-align: right;\">0.0289794</td><td style=\"text-align: right;\">0.0286619</td><td style=\"text-align: right;\">0.0296959</td><td style=\"text-align: right;\">0.454412 </td><td style=\"text-align: right;\">             0.538889</td><td style=\"text-align: right;\">                  0.161111 </td><td style=\"text-align: right;\">                   0.0309278</td><td style=\"text-align: right;\">                  0.0206186 </td><td style=\"text-align: right;\">             0.6     </td><td style=\"text-align: right;\">             0.4     </td><td style=\"text-align: right;\">               0.566667</td><td style=\"text-align: right;\">              0.4      </td><td style=\"text-align: right;\">                    0.8</td><td style=\"text-align: right;\">              -0.125   </td><td style=\"text-align: right;\">                 -0.125</td><td style=\"text-align: right;\">              -0.125   </td><td style=\"text-align: right;\">            0.125   </td><td style=\"text-align: right;\">                  0       </td><td style=\"text-align: right;\">               0.375    </td><td style=\"text-align: right;\">                      0       </td><td style=\"text-align: right;\">    3600</td><td style=\"text-align: right;\">     3600</td><td style=\"text-align: right;\">        1</td></tr>\n",
       "<tr><td>http://mashable.com/2013/01/07/chuck-hagel-website/           </td><td style=\"text-align: right;\">        731</td><td style=\"text-align: right;\">              10</td><td style=\"text-align: right;\">               231</td><td style=\"text-align: right;\">         0.636364</td><td style=\"text-align: right;\">                 1</td><td style=\"text-align: right;\">                  0.797101</td><td style=\"text-align: right;\">          4</td><td style=\"text-align: right;\">               1</td><td style=\"text-align: right;\">         1</td><td style=\"text-align: right;\">           1</td><td style=\"text-align: right;\">               5.09091</td><td style=\"text-align: right;\">             5</td><td style=\"text-align: right;\">                          0</td><td style=\"text-align: right;\">                              0</td><td style=\"text-align: right;\">                    0</td><td style=\"text-align: right;\">                       0</td><td style=\"text-align: right;\">                     0</td><td style=\"text-align: right;\">                      1</td><td style=\"text-align: right;\">           0</td><td style=\"text-align: right;\">           0</td><td style=\"text-align: right;\">           0</td><td style=\"text-align: right;\">           0</td><td style=\"text-align: right;\">           0</td><td style=\"text-align: right;\">           0</td><td style=\"text-align: right;\">           0</td><td style=\"text-align: right;\">           0</td><td style=\"text-align: right;\">           0</td><td style=\"text-align: right;\">                          0</td><td style=\"text-align: right;\">                          0</td><td style=\"text-align: right;\">                        0   </td><td style=\"text-align: right;\">                  1</td><td style=\"text-align: right;\">                   0</td><td style=\"text-align: right;\">                     0</td><td style=\"text-align: right;\">                    0</td><td style=\"text-align: right;\">                  0</td><td style=\"text-align: right;\">                    0</td><td style=\"text-align: right;\">                  0</td><td style=\"text-align: right;\">           0</td><td style=\"text-align: right;\">0.0400001</td><td style=\"text-align: right;\">0.04     </td><td style=\"text-align: right;\">0.839997 </td><td style=\"text-align: right;\">0.0400006</td><td style=\"text-align: right;\">0.040002 </td><td style=\"text-align: right;\">             0.313889</td><td style=\"text-align: right;\">                  0.0518519</td><td style=\"text-align: right;\">                   0.038961 </td><td style=\"text-align: right;\">                  0.030303  </td><td style=\"text-align: right;\">             0.5625  </td><td style=\"text-align: right;\">             0.4375  </td><td style=\"text-align: right;\">               0.298413</td><td style=\"text-align: right;\">              0.1      </td><td style=\"text-align: right;\">                    0.5</td><td style=\"text-align: right;\">              -0.238095</td><td style=\"text-align: right;\">                 -0.5  </td><td style=\"text-align: right;\">              -0.1     </td><td style=\"text-align: right;\">            0       </td><td style=\"text-align: right;\">                  0       </td><td style=\"text-align: right;\">               0.5      </td><td style=\"text-align: right;\">                      0       </td><td style=\"text-align: right;\">     710</td><td style=\"text-align: right;\">      710</td><td style=\"text-align: right;\">        0</td></tr>\n",
       "</tbody>\n",
       "</table>"
      ]
     },
     "metadata": {},
     "output_type": "display_data"
    },
    {
     "data": {
      "text/plain": []
     },
     "execution_count": 333,
     "metadata": {},
     "output_type": "execute_result"
    }
   ],
   "source": [
    "data.head()"
   ]
  },
  {
   "cell_type": "code",
   "execution_count": 334,
   "metadata": {},
   "outputs": [],
   "source": [
    "predictor = [[\n",
    " 'timedelta',\n",
    " 'n_tokens_title',\n",
    " 'n_tokens_content',\n",
    " 'n_unique_tokens',\n",
    " 'n_non_stop_words',\n",
    " 'n_non_stop_unique_tokens',\n",
    " 'num_hrefs',\n",
    " 'num_self_hrefs',\n",
    " 'num_imgs',\n",
    " 'num_videos',\n",
    " 'average_token_length',\n",
    " 'num_keywords',\n",
    " 'data_channel_is_lifestyle',\n",
    " 'data_channel_is_entertainment',\n",
    " 'data_channel_is_bus',\n",
    " 'data_channel_is_socmed',\n",
    " 'data_channel_is_tech',\n",
    " 'data_channel_is_world',\n",
    " 'kw_min_min',\n",
    " 'kw_max_min',\n",
    " 'kw_avg_min',\n",
    " 'kw_min_max',\n",
    " 'kw_max_max',\n",
    " 'kw_avg_max',\n",
    " 'kw_min_avg',\n",
    " 'kw_max_avg',\n",
    " 'kw_avg_avg',\n",
    " 'self_reference_min_shares',\n",
    " 'self_reference_max_shares',\n",
    " 'self_reference_avg_sharess',\n",
    " 'weekday_is_monday',\n",
    " 'weekday_is_tuesday',\n",
    " 'weekday_is_wednesday',\n",
    " 'weekday_is_thursday',\n",
    " 'weekday_is_friday',\n",
    " 'weekday_is_saturday',\n",
    " 'weekday_is_sunday',\n",
    " 'is_weekend',\n",
    " 'LDA_00',\n",
    " 'LDA_01',\n",
    " 'LDA_02',\n",
    " 'LDA_03',\n",
    " 'LDA_04',\n",
    " 'global_subjectivity',\n",
    " 'global_sentiment_polarity',\n",
    " 'global_rate_positive_words',\n",
    " 'global_rate_negative_words',\n",
    " 'rate_positive_words',\n",
    " 'rate_negative_words',\n",
    " 'avg_positive_polarity',\n",
    " 'min_positive_polarity',\n",
    " 'max_positive_polarity',\n",
    " 'avg_negative_polarity',\n",
    " 'min_negative_polarity',\n",
    " 'max_negative_polarity',\n",
    " 'title_subjectivity',\n",
    " 'title_sentiment_polarity',\n",
    " 'abs_title_subjectivity',\n",
    " 'abs_title_sentiment_polarity']]"
   ]
  },
  {
   "cell_type": "code",
   "execution_count": 335,
   "metadata": {},
   "outputs": [],
   "source": [
    "target = 'shares2'"
   ]
  },
  {
   "cell_type": "code",
   "execution_count": 336,
   "metadata": {},
   "outputs": [],
   "source": [
    "# Split dataset into train and test"
   ]
  },
  {
   "cell_type": "code",
   "execution_count": 337,
   "metadata": {},
   "outputs": [],
   "source": [
    "train, test = data.split_frame(ratios=[0.7])"
   ]
  },
  {
   "cell_type": "code",
   "execution_count": 338,
   "metadata": {},
   "outputs": [],
   "source": [
    "# Generate GLM model"
   ]
  },
  {
   "cell_type": "code",
   "execution_count": 339,
   "metadata": {},
   "outputs": [],
   "source": [
    "from h2o.estimators.glm import H2OGeneralizedLinearEstimator"
   ]
  },
  {
   "cell_type": "code",
   "execution_count": 340,
   "metadata": {},
   "outputs": [],
   "source": [
    "glm_classifier = H2OGeneralizedLinearEstimator(family=\"binomial\", nfolds=10, alpha=0.5)"
   ]
  },
  {
   "cell_type": "code",
   "execution_count": 341,
   "metadata": {},
   "outputs": [
    {
     "ename": "H2OTypeError",
     "evalue": "Argument `x` should be a None | integer | string | list(string | integer) | set(integer | string), got list [['timedelta', 'n_tokens_title', 'n_tokens_content', 'n_unique_tokens', 'n_non_stop_words', 'n_non_stop_unique_tokens', 'num_hrefs', 'num_self_hrefs', 'num_imgs', 'num_videos', 'average_token_length', 'num_keywords', 'data_channel_is_lifestyle', 'data_channel_is_entertainment', 'data_channel_is_bus', 'data_channel_is_socmed', 'data_channel_is_tech', 'data_channel_is_world', 'kw_min_min', 'kw_max_min', 'kw_avg_min', 'kw_min_max', 'kw_max_max', 'kw_avg_max', 'kw_min_avg', 'kw_max_avg', 'kw_avg_avg', 'self_reference_min_shares', 'self_reference_max_shares', 'self_reference_avg_sharess', 'weekday_is_monday', 'weekday_is_tuesday', 'weekday_is_wednesday', 'weekday_is_thursday', 'weekday_is_friday', 'weekday_is_saturday', 'weekday_is_sunday', 'is_weekend', 'LDA_00', 'LDA_01', 'LDA_02', 'LDA_03', 'LDA_04', 'global_subjectivity', 'global_sentiment_polarity', 'global_rate_positive_words', 'global_rate_negative_words', 'rate_positive_words', 'rate_negative_words', 'avg_positive_polarity', 'min_positive_polarity', 'max_positive_polarity', 'avg_negative_polarity', 'min_negative_polarity', 'max_negative_polarity', 'title_subjectivity', 'title_sentiment_polarity', 'abs_title_subjectivity', 'abs_title_sentiment_polarity']]",
     "output_type": "error",
     "traceback": [
      "\u001b[1;31m---------------------------------------------------------------------------\u001b[0m",
      "\u001b[1;31mH2OTypeError\u001b[0m                              Traceback (most recent call last)",
      "\u001b[1;32m<ipython-input-341-34f2f272d905>\u001b[0m in \u001b[0;36m<module>\u001b[1;34m()\u001b[0m\n\u001b[1;32m----> 1\u001b[1;33m \u001b[0mglm_classifier\u001b[0m\u001b[1;33m.\u001b[0m\u001b[0mtrain\u001b[0m\u001b[1;33m(\u001b[0m\u001b[0mx\u001b[0m \u001b[1;33m=\u001b[0m \u001b[0mpredictor\u001b[0m\u001b[1;33m,\u001b[0m \u001b[0my\u001b[0m \u001b[1;33m=\u001b[0m \u001b[0mtarget\u001b[0m\u001b[1;33m,\u001b[0m \u001b[0mtraining_frame\u001b[0m\u001b[1;33m=\u001b[0m\u001b[0mtrain\u001b[0m\u001b[1;33m)\u001b[0m\u001b[1;33m\u001b[0m\u001b[0m\n\u001b[0m",
      "\u001b[1;32m~\\AppData\\Roaming\\Python\\Python36\\site-packages\\h2o\\estimators\\estimator_base.py\u001b[0m in \u001b[0;36mtrain\u001b[1;34m(self, x, y, training_frame, offset_column, fold_column, weights_column, validation_frame, max_runtime_secs, ignored_columns, model_id, verbose)\u001b[0m\n\u001b[0;32m    108\u001b[0m         \u001b[0massert_is_type\u001b[0m\u001b[1;33m(\u001b[0m\u001b[0mvalidation_frame\u001b[0m\u001b[1;33m,\u001b[0m \u001b[1;32mNone\u001b[0m\u001b[1;33m,\u001b[0m \u001b[0mH2OFrame\u001b[0m\u001b[1;33m)\u001b[0m\u001b[1;33m\u001b[0m\u001b[0m\n\u001b[0;32m    109\u001b[0m         \u001b[0massert_is_type\u001b[0m\u001b[1;33m(\u001b[0m\u001b[0my\u001b[0m\u001b[1;33m,\u001b[0m \u001b[1;32mNone\u001b[0m\u001b[1;33m,\u001b[0m \u001b[0mint\u001b[0m\u001b[1;33m,\u001b[0m \u001b[0mstr\u001b[0m\u001b[1;33m)\u001b[0m\u001b[1;33m\u001b[0m\u001b[0m\n\u001b[1;32m--> 110\u001b[1;33m         \u001b[0massert_is_type\u001b[0m\u001b[1;33m(\u001b[0m\u001b[0mx\u001b[0m\u001b[1;33m,\u001b[0m \u001b[1;32mNone\u001b[0m\u001b[1;33m,\u001b[0m \u001b[0mint\u001b[0m\u001b[1;33m,\u001b[0m \u001b[0mstr\u001b[0m\u001b[1;33m,\u001b[0m \u001b[1;33m[\u001b[0m\u001b[0mstr\u001b[0m\u001b[1;33m,\u001b[0m \u001b[0mint\u001b[0m\u001b[1;33m]\u001b[0m\u001b[1;33m,\u001b[0m \u001b[1;33m{\u001b[0m\u001b[0mstr\u001b[0m\u001b[1;33m,\u001b[0m \u001b[0mint\u001b[0m\u001b[1;33m}\u001b[0m\u001b[1;33m)\u001b[0m\u001b[1;33m\u001b[0m\u001b[0m\n\u001b[0m\u001b[0;32m    111\u001b[0m         \u001b[0massert_is_type\u001b[0m\u001b[1;33m(\u001b[0m\u001b[0mignored_columns\u001b[0m\u001b[1;33m,\u001b[0m \u001b[1;32mNone\u001b[0m\u001b[1;33m,\u001b[0m \u001b[1;33m[\u001b[0m\u001b[0mstr\u001b[0m\u001b[1;33m,\u001b[0m \u001b[0mint\u001b[0m\u001b[1;33m]\u001b[0m\u001b[1;33m,\u001b[0m \u001b[1;33m{\u001b[0m\u001b[0mstr\u001b[0m\u001b[1;33m,\u001b[0m \u001b[0mint\u001b[0m\u001b[1;33m}\u001b[0m\u001b[1;33m)\u001b[0m\u001b[1;33m\u001b[0m\u001b[0m\n\u001b[0;32m    112\u001b[0m         \u001b[0massert_is_type\u001b[0m\u001b[1;33m(\u001b[0m\u001b[0moffset_column\u001b[0m\u001b[1;33m,\u001b[0m \u001b[1;32mNone\u001b[0m\u001b[1;33m,\u001b[0m \u001b[0mint\u001b[0m\u001b[1;33m,\u001b[0m \u001b[0mstr\u001b[0m\u001b[1;33m)\u001b[0m\u001b[1;33m\u001b[0m\u001b[0m\n",
      "\u001b[1;32m~\\AppData\\Roaming\\Python\\Python36\\site-packages\\h2o\\utils\\typechecks.py\u001b[0m in \u001b[0;36massert_is_type\u001b[1;34m(var, *types, **kwargs)\u001b[0m\n\u001b[0;32m    455\u001b[0m     \u001b[0mvtn\u001b[0m \u001b[1;33m=\u001b[0m \u001b[0m_get_type_name\u001b[0m\u001b[1;33m(\u001b[0m\u001b[0mtype\u001b[0m\u001b[1;33m(\u001b[0m\u001b[0mvar\u001b[0m\u001b[1;33m)\u001b[0m\u001b[1;33m)\u001b[0m\u001b[1;33m\u001b[0m\u001b[0m\n\u001b[0;32m    456\u001b[0m     raise H2OTypeError(var_name=vname, var_value=var, var_type_name=vtn, exp_type_name=etn, message=message,\n\u001b[1;32m--> 457\u001b[1;33m                        skip_frames=skip_frames)\n\u001b[0m\u001b[0;32m    458\u001b[0m \u001b[1;33m\u001b[0m\u001b[0m\n\u001b[0;32m    459\u001b[0m \u001b[1;33m\u001b[0m\u001b[0m\n",
      "\u001b[1;31mH2OTypeError\u001b[0m: Argument `x` should be a None | integer | string | list(string | integer) | set(integer | string), got list [['timedelta', 'n_tokens_title', 'n_tokens_content', 'n_unique_tokens', 'n_non_stop_words', 'n_non_stop_unique_tokens', 'num_hrefs', 'num_self_hrefs', 'num_imgs', 'num_videos', 'average_token_length', 'num_keywords', 'data_channel_is_lifestyle', 'data_channel_is_entertainment', 'data_channel_is_bus', 'data_channel_is_socmed', 'data_channel_is_tech', 'data_channel_is_world', 'kw_min_min', 'kw_max_min', 'kw_avg_min', 'kw_min_max', 'kw_max_max', 'kw_avg_max', 'kw_min_avg', 'kw_max_avg', 'kw_avg_avg', 'self_reference_min_shares', 'self_reference_max_shares', 'self_reference_avg_sharess', 'weekday_is_monday', 'weekday_is_tuesday', 'weekday_is_wednesday', 'weekday_is_thursday', 'weekday_is_friday', 'weekday_is_saturday', 'weekday_is_sunday', 'is_weekend', 'LDA_00', 'LDA_01', 'LDA_02', 'LDA_03', 'LDA_04', 'global_subjectivity', 'global_sentiment_polarity', 'global_rate_positive_words', 'global_rate_negative_words', 'rate_positive_words', 'rate_negative_words', 'avg_positive_polarity', 'min_positive_polarity', 'max_positive_polarity', 'avg_negative_polarity', 'min_negative_polarity', 'max_negative_polarity', 'title_subjectivity', 'title_sentiment_polarity', 'abs_title_subjectivity', 'abs_title_sentiment_polarity']]"
     ]
    }
   ],
   "source": [
    "glm_classifier.train(x = predictor, y = target, training_frame=train)"
   ]
  },
  {
   "cell_type": "code",
   "execution_count": null,
   "metadata": {},
   "outputs": [],
   "source": [
    "glm_classifier.coef()"
   ]
  },
  {
   "cell_type": "code",
   "execution_count": null,
   "metadata": {},
   "outputs": [],
   "source": [
    "print(glm_classifier.coef_norm())"
   ]
  },
  {
   "cell_type": "code",
   "execution_count": null,
   "metadata": {},
   "outputs": [],
   "source": [
    "glm_classifier._model_json['output']['coefficients_table']"
   ]
  },
  {
   "cell_type": "code",
   "execution_count": null,
   "metadata": {},
   "outputs": [],
   "source": [
    "preds  = glm_classifier.predict(test)"
   ]
  },
  {
   "cell_type": "code",
   "execution_count": null,
   "metadata": {},
   "outputs": [],
   "source": [
    "glm_classifier.model_performance(test)"
   ]
  },
  {
   "cell_type": "code",
   "execution_count": null,
   "metadata": {},
   "outputs": [],
   "source": [
    "glm_classifier.confusion_matrix(metrics=\"accuracy\")"
   ]
  },
  {
   "cell_type": "code",
   "execution_count": null,
   "metadata": {},
   "outputs": [],
   "source": [
    "glm_classifier.logloss(train=True)"
   ]
  },
  {
   "cell_type": "code",
   "execution_count": null,
   "metadata": {},
   "outputs": [],
   "source": [
    "glm_classifier.accuracy()"
   ]
  },
  {
   "cell_type": "code",
   "execution_count": null,
   "metadata": {},
   "outputs": [],
   "source": [
    "# So, the accuracy using GLM model on train data is 48% and on test data is 65%"
   ]
  },
  {
   "cell_type": "code",
   "execution_count": null,
   "metadata": {},
   "outputs": [],
   "source": [
    "## QQ Plot"
   ]
  },
  {
   "cell_type": "code",
   "execution_count": null,
   "metadata": {},
   "outputs": [],
   "source": [
    "import statsmodels.api as sm"
   ]
  },
  {
   "cell_type": "code",
   "execution_count": null,
   "metadata": {},
   "outputs": [],
   "source": [
    "res = glm_classifier.residual_deviance()"
   ]
  },
  {
   "cell_type": "code",
   "execution_count": null,
   "metadata": {},
   "outputs": [],
   "source": [
    "res"
   ]
  },
  {
   "cell_type": "code",
   "execution_count": null,
   "metadata": {},
   "outputs": [],
   "source": [
    "glm_classifier.residual_degrees_of_freedom()"
   ]
  },
  {
   "cell_type": "code",
   "execution_count": null,
   "metadata": {},
   "outputs": [],
   "source": [
    "# Accuracy of model is 50%"
   ]
  },
  {
   "cell_type": "code",
   "execution_count": null,
   "metadata": {},
   "outputs": [],
   "source": [
    "# ROC Curve"
   ]
  },
  {
   "cell_type": "code",
   "execution_count": null,
   "metadata": {},
   "outputs": [],
   "source": [
    "from sklearn.metrics import roc_curve, auc"
   ]
  },
  {
   "cell_type": "code",
   "execution_count": null,
   "metadata": {},
   "outputs": [],
   "source": [
    "# Bagging , Boosting, Stacking"
   ]
  },
  {
   "cell_type": "code",
   "execution_count": null,
   "metadata": {},
   "outputs": [],
   "source": [
    "train[target] = train[target].asfactor()\n",
    "test[target] = test[target].asfactor()"
   ]
  },
  {
   "cell_type": "code",
   "execution_count": null,
   "metadata": {},
   "outputs": [],
   "source": [
    "n_folds = 5"
   ]
  },
  {
   "cell_type": "code",
   "execution_count": null,
   "metadata": {},
   "outputs": [],
   "source": [
    "# Train and cross-validate a GBM\n",
    "my_gbm = H2OGradientBoostingEstimator(distribution=\"bernoulli\",\n",
    "                                      ntrees=10,\n",
    "                                      max_depth=3,\n",
    "                                      min_rows=2,\n",
    "                                      learn_rate=0.2,\n",
    "                                      nfolds=nfolds,\n",
    "                                      fold_assignment=\"Modulo\",\n",
    "                                      keep_cross_validation_predictions=True,\n",
    "                                      seed=1)\n",
    "my_gbm.train(x=predictor, y=target, training_frame=train)"
   ]
  },
  {
   "cell_type": "code",
   "execution_count": null,
   "metadata": {},
   "outputs": [],
   "source": [
    "# Train and cross-validate a RF\n",
    "my_rf = H2ORandomForestEstimator(ntrees=50,\n",
    "                                 nfolds=nfolds,\n",
    "                                 fold_assignment=\"Modulo\",\n",
    "                                 keep_cross_validation_predictions=True,\n",
    "                                 seed=1)\n",
    "my_rf.train(x=predictor, y=target, training_frame=train)"
   ]
  },
  {
   "cell_type": "code",
   "execution_count": null,
   "metadata": {},
   "outputs": [],
   "source": [
    "# Train a stacked ensemble using the GBM and GLM above\n",
    "ensemble = H2OStackedEnsembleEstimator(model_id=\"my_ensemble_binomial\",\n",
    "                                       base_models=[my_gbm, my_rf])\n",
    "ensemble.train(x=predictor, y=target, training_frame=train)"
   ]
  },
  {
   "cell_type": "code",
   "execution_count": null,
   "metadata": {},
   "outputs": [],
   "source": [
    "# Eval ensemble performance on the test data\n",
    "perf_stack_test = ensemble.model_performance(test)"
   ]
  },
  {
   "cell_type": "code",
   "execution_count": null,
   "metadata": {},
   "outputs": [],
   "source": [
    "# Compare to base learner performance on the test set\n",
    "perf_gbm_test = my_gbm.model_performance(test)\n",
    "perf_rf_test = my_rf.model_performance(test)\n",
    "baselearner_best_auc_test = max(perf_gbm_test.auc(), perf_rf_test.auc())\n",
    "stack_auc_test = perf_stack_test.auc()\n",
    "print(\"Best Base-learner Test AUC:  {0}\".format(baselearner_best_auc_test))\n",
    "print(\"Ensemble Test AUC:  {0}\".format(stack_auc_test))"
   ]
  },
  {
   "cell_type": "code",
   "execution_count": null,
   "metadata": {},
   "outputs": [],
   "source": [
    "# Generate predictions on a test set (if neccessary)\n",
    "pred = ensemble.predict(test)"
   ]
  },
  {
   "cell_type": "code",
   "execution_count": null,
   "metadata": {},
   "outputs": [],
   "source": [
    "ensemble.confusion_matrix(metrics=\"accuracy\")"
   ]
  },
  {
   "cell_type": "code",
   "execution_count": null,
   "metadata": {},
   "outputs": [],
   "source": [
    "# Accuracy using ensemble is 52%"
   ]
  },
  {
   "cell_type": "code",
   "execution_count": null,
   "metadata": {},
   "outputs": [],
   "source": [
    "# Specify GBM hyperparameters for the grid\n",
    "hyper_params = {\"learn_rate\": [0.01, 0.03],\n",
    "                \"max_depth\": [3, 4, 5, 6, 9],\n",
    "                \"sample_rate\": [0.7, 0.8, 0.9, 1.0],\n",
    "                \"col_sample_rate\": [0.2, 0.3, 0.4, 0.5, 0.6, 0.7, 0.8]}\n",
    "search_criteria = {\"strategy\": \"RandomDiscrete\", \"max_models\": 3, \"seed\": 1}"
   ]
  },
  {
   "cell_type": "code",
   "execution_count": null,
   "metadata": {},
   "outputs": [],
   "source": [
    "# Train the grid\n",
    "grid = H2OGridSearch(model=H2OGradientBoostingEstimator(ntrees=10,\n",
    "                                                        seed=1,\n",
    "                                                        nfolds=nfolds,\n",
    "                                                        fold_assignment=\"Modulo\",\n",
    "                                                        keep_cross_validation_predictions=True),\n",
    "                     hyper_params=hyper_params,\n",
    "                     search_criteria=search_criteria,\n",
    "                     grid_id=\"gbm_grid_binomial\")\n",
    "grid.train(x=predictor, y=target, training_frame=train)"
   ]
  },
  {
   "cell_type": "code",
   "execution_count": null,
   "metadata": {},
   "outputs": [],
   "source": [
    "# Train a stacked ensemble using the GBM grid\n",
    "ensemble = H2OStackedEnsembleEstimator(model_id=\"my_ensemble_gbm_grid_binomial\",\n",
    "                                       base_models=grid.model_ids)\n",
    "ensemble.train(x=predictor, y=target, training_frame=train)"
   ]
  },
  {
   "cell_type": "code",
   "execution_count": null,
   "metadata": {},
   "outputs": [],
   "source": [
    "# Eval ensemble performance on the test data\n",
    "perf_stack_test = ensemble.model_performance(test)"
   ]
  },
  {
   "cell_type": "code",
   "execution_count": null,
   "metadata": {},
   "outputs": [],
   "source": [
    "# Compare to base learner performance on the test set\n",
    "baselearner_best_auc_test = max([h2o.get_model(model).model_performance(test_data=test).auc() for model in grid.model_ids])\n",
    "stack_auc_test = perf_stack_test.auc()\n",
    "print(\"Best Base-learner Test AUC:  {0}\".format(baselearner_best_auc_test))\n",
    "print(\"Ensemble Test AUC:  {0}\".format(stack_auc_test))"
   ]
  },
  {
   "cell_type": "code",
   "execution_count": null,
   "metadata": {},
   "outputs": [],
   "source": [
    "# Generate predictions on a test set (if neccessary)\n",
    "pred = ensemble.predict(test)"
   ]
  },
  {
   "cell_type": "code",
   "execution_count": null,
   "metadata": {},
   "outputs": [],
   "source": [
    "ensemble.confusion_matrix(metrics=\"accuracy\")"
   ]
  },
  {
   "cell_type": "code",
   "execution_count": null,
   "metadata": {},
   "outputs": [],
   "source": [
    "# Accuracy after using hyper parameters is 70%"
   ]
  },
  {
   "cell_type": "code",
   "execution_count": null,
   "metadata": {},
   "outputs": [],
   "source": [
    "# Generalized Linear Model -- Version I"
   ]
  },
  {
   "cell_type": "code",
   "execution_count": null,
   "metadata": {},
   "outputs": [],
   "source": [
    "import glmnet_python\n",
    "from glmnet import glmnet\n",
    "from glmnetPlot import glmnetPlot\n",
    "from glmnetPrint import glmnetPrint\n",
    "from glmnetCoef import glmnetCoef\n",
    "from glmnetPredict import glmnetPredict\n",
    "from cvglmnet import cvglmnet\n",
    "from cvglmnetCoef import cvglmnetCoef\n",
    "from cvglmnetPlot import cvglmnetPlot\n",
    "from cvglmnetPredict import cvglmnetPredict"
   ]
  },
  {
   "cell_type": "code",
   "execution_count": 369,
   "metadata": {},
   "outputs": [
    {
     "ename": "ValueError",
     "evalue": "sequence too large; cannot be greater than 32",
     "output_type": "error",
     "traceback": [
      "\u001b[1;31m---------------------------------------------------------------------------\u001b[0m",
      "\u001b[1;31mValueError\u001b[0m                                Traceback (most recent call last)",
      "\u001b[1;32m<ipython-input-369-c61e7713a6d0>\u001b[0m in \u001b[0;36m<module>\u001b[1;34m()\u001b[0m\n\u001b[0;32m     58\u001b[0m  \u001b[1;34m'title_sentiment_polarity'\u001b[0m\u001b[1;33m,\u001b[0m\u001b[1;33m\u001b[0m\u001b[0m\n\u001b[0;32m     59\u001b[0m  \u001b[1;34m'abs_title_subjectivity'\u001b[0m\u001b[1;33m,\u001b[0m\u001b[1;33m\u001b[0m\u001b[0m\n\u001b[1;32m---> 60\u001b[1;33m  'abs_title_sentiment_polarity']])\n\u001b[0m",
      "\u001b[1;31mValueError\u001b[0m: sequence too large; cannot be greater than 32"
     ]
    }
   ],
   "source": [
    "X_data = np.ndarray(data[[\n",
    " 'timedelta',\n",
    " 'n_tokens_title',\n",
    " 'n_tokens_content',\n",
    " 'n_unique_tokens',\n",
    " 'n_non_stop_words',\n",
    " 'n_non_stop_unique_tokens',\n",
    " 'num_hrefs',\n",
    " 'num_self_hrefs',\n",
    " 'num_imgs',\n",
    " 'num_videos',\n",
    " 'average_token_length',\n",
    " 'num_keywords',\n",
    " 'data_channel_is_lifestyle',\n",
    " 'data_channel_is_entertainment',\n",
    " 'data_channel_is_bus',\n",
    " 'data_channel_is_socmed',\n",
    " 'data_channel_is_tech',\n",
    " 'data_channel_is_world',\n",
    " 'kw_min_min',\n",
    " 'kw_max_min',\n",
    " 'kw_avg_min',\n",
    " 'kw_min_max',\n",
    " 'kw_max_max',\n",
    " 'kw_avg_max',\n",
    " 'kw_min_avg',\n",
    " 'kw_max_avg',\n",
    " 'kw_avg_avg',\n",
    " 'self_reference_min_shares',\n",
    " 'self_reference_max_shares',\n",
    " 'self_reference_avg_sharess',\n",
    " 'weekday_is_monday',\n",
    " 'weekday_is_tuesday',\n",
    " 'weekday_is_wednesday',\n",
    " 'weekday_is_thursday',\n",
    " 'weekday_is_friday',\n",
    " 'weekday_is_saturday',\n",
    " 'weekday_is_sunday',\n",
    " 'is_weekend',\n",
    " 'LDA_00',\n",
    " 'LDA_01',\n",
    " 'LDA_02',\n",
    " 'LDA_03',\n",
    " 'LDA_04',\n",
    " 'global_subjectivity',\n",
    " 'global_sentiment_polarity',\n",
    " 'global_rate_positive_words',\n",
    " 'global_rate_negative_words',\n",
    " 'rate_positive_words',\n",
    " 'rate_negative_words',\n",
    " 'avg_positive_polarity',\n",
    " 'min_positive_polarity',\n",
    " 'max_positive_polarity',\n",
    " 'avg_negative_polarity',\n",
    " 'min_negative_polarity',\n",
    " 'max_negative_polarity',\n",
    " 'title_subjectivity',\n",
    " 'title_sentiment_polarity',\n",
    " 'abs_title_subjectivity',\n",
    " 'abs_title_sentiment_polarity']])"
   ]
  },
  {
   "cell_type": "code",
   "execution_count": 367,
   "metadata": {},
   "outputs": [],
   "source": [
    "X_data = X_data.as_data_frame"
   ]
  },
  {
   "cell_type": "code",
   "execution_count": 350,
   "metadata": {},
   "outputs": [],
   "source": [
    "y = data['shares2']"
   ]
  },
  {
   "cell_type": "code",
   "execution_count": 368,
   "metadata": {},
   "outputs": [
    {
     "ename": "ValueError",
     "evalue": "x input must be a scipy float64 ndarray",
     "output_type": "error",
     "traceback": [
      "\u001b[1;31m---------------------------------------------------------------------------\u001b[0m",
      "\u001b[1;31mValueError\u001b[0m                                Traceback (most recent call last)",
      "\u001b[1;32m<ipython-input-368-978fb42ac200>\u001b[0m in \u001b[0;36m<module>\u001b[1;34m()\u001b[0m\n\u001b[1;32m----> 1\u001b[1;33m \u001b[0mglm_fit\u001b[0m \u001b[1;33m=\u001b[0m \u001b[0mglmnet\u001b[0m\u001b[1;33m(\u001b[0m\u001b[0mx\u001b[0m \u001b[1;33m=\u001b[0m \u001b[1;34m'X'\u001b[0m\u001b[1;33m,\u001b[0m \u001b[0my\u001b[0m\u001b[1;33m=\u001b[0m\u001b[1;34m'y'\u001b[0m\u001b[1;33m,\u001b[0m \u001b[0mfamily\u001b[0m \u001b[1;33m=\u001b[0m \u001b[1;34m'binomial'\u001b[0m\u001b[1;33m)\u001b[0m\u001b[1;33m\u001b[0m\u001b[0m\n\u001b[0m",
      "\u001b[1;32m~\\Anaconda3\\lib\\site-packages\\glmnet_python\\glmnet.py\u001b[0m in \u001b[0;36mglmnet\u001b[1;34m(x, y, family, **options)\u001b[0m\n\u001b[0;32m    250\u001b[0m     \u001b[1;32mif\u001b[0m \u001b[1;32mnot\u001b[0m\u001b[1;33m(\u001b[0m \u001b[0misinstance\u001b[0m\u001b[1;33m(\u001b[0m\u001b[0mx\u001b[0m\u001b[1;33m,\u001b[0m \u001b[0mscipy\u001b[0m\u001b[1;33m.\u001b[0m\u001b[0msparse\u001b[0m\u001b[1;33m.\u001b[0m\u001b[0mcsc\u001b[0m\u001b[1;33m.\u001b[0m\u001b[0mcsc_matrix\u001b[0m\u001b[1;33m)\u001b[0m \u001b[1;33m)\u001b[0m\u001b[1;33m:\u001b[0m\u001b[1;33m\u001b[0m\u001b[0m\n\u001b[0;32m    251\u001b[0m         \u001b[1;32mif\u001b[0m \u001b[1;32mnot\u001b[0m\u001b[1;33m(\u001b[0m \u001b[0misinstance\u001b[0m\u001b[1;33m(\u001b[0m\u001b[0mx\u001b[0m\u001b[1;33m,\u001b[0m \u001b[0mscipy\u001b[0m\u001b[1;33m.\u001b[0m\u001b[0mndarray\u001b[0m\u001b[1;33m)\u001b[0m \u001b[1;32mand\u001b[0m \u001b[0mx\u001b[0m\u001b[1;33m.\u001b[0m\u001b[0mdtype\u001b[0m \u001b[1;33m==\u001b[0m \u001b[1;34m'float64'\u001b[0m\u001b[1;33m)\u001b[0m\u001b[1;33m:\u001b[0m\u001b[1;33m\u001b[0m\u001b[0m\n\u001b[1;32m--> 252\u001b[1;33m             \u001b[1;32mraise\u001b[0m \u001b[0mValueError\u001b[0m\u001b[1;33m(\u001b[0m\u001b[1;34m'x input must be a scipy float64 ndarray'\u001b[0m\u001b[1;33m)\u001b[0m\u001b[1;33m\u001b[0m\u001b[0m\n\u001b[0m\u001b[0;32m    253\u001b[0m     \u001b[1;32melse\u001b[0m\u001b[1;33m:\u001b[0m\u001b[1;33m\u001b[0m\u001b[0m\n\u001b[0;32m    254\u001b[0m         \u001b[1;32mif\u001b[0m \u001b[1;32mnot\u001b[0m \u001b[1;33m(\u001b[0m\u001b[0mx\u001b[0m\u001b[1;33m.\u001b[0m\u001b[0mdtype\u001b[0m \u001b[1;33m==\u001b[0m \u001b[1;34m'float64'\u001b[0m\u001b[1;33m)\u001b[0m\u001b[1;33m:\u001b[0m\u001b[1;33m\u001b[0m\u001b[0m\n",
      "\u001b[1;31mValueError\u001b[0m: x input must be a scipy float64 ndarray"
     ]
    }
   ],
   "source": [
    "glm_fit = glmnet(x = 'X', y='y', family = 'binomial')"
   ]
  },
  {
   "cell_type": "code",
   "execution_count": null,
   "metadata": {},
   "outputs": [],
   "source": []
  }
 ],
 "metadata": {
  "kernelspec": {
   "display_name": "Python 3",
   "language": "python",
   "name": "python3"
  },
  "language_info": {
   "codemirror_mode": {
    "name": "ipython",
    "version": 3
   },
   "file_extension": ".py",
   "mimetype": "text/x-python",
   "name": "python",
   "nbconvert_exporter": "python",
   "pygments_lexer": "ipython3",
   "version": "3.6.6"
  }
 },
 "nbformat": 4,
 "nbformat_minor": 2
}
